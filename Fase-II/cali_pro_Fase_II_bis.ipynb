{
  "nbformat": 4,
  "nbformat_minor": 0,
  "metadata": {
    "colab": {
      "name": "cali-pro-Fase-II-bis.ipynb",
      "provenance": [],
      "collapsed_sections": []
    },
    "kernelspec": {
      "name": "python3",
      "display_name": "Python 3"
    },
    "language_info": {
      "name": "python"
    }
  },
  "cells": [
    {
      "cell_type": "code",
      "metadata": {
        "id": "j_UvvcdnfjGD"
      },
      "source": [
        "import pandas as pd\n",
        "from sklearn.model_selection import KFold\n",
        "from sklearn.model_selection import LeaveOneOut\n",
        "from sklearn.model_selection import cross_val_score\n",
        "from sklearn.decomposition import PCA\n",
        "from sklearn.ensemble import ExtraTreesClassifier\n",
        "from sklearn.ensemble import RandomForestClassifier\n",
        "from sklearn.model_selection import train_test_split\n",
        "from numpy import set_printoptions\n",
        "from sklearn.feature_selection import SelectKBest\n",
        "from sklearn.feature_selection import chi2\n",
        "from sklearn.feature_selection import RFE\n",
        "from sklearn.linear_model import LogisticRegression\n",
        "import pandas as pd\n",
        "import numpy as np\n",
        "from sklearn.preprocessing import MinMaxScaler, StandardScaler, Normalizer, Binarizer\n",
        "import matplotlib.pyplot as plt\n",
        "import seaborn as sns\n",
        "from xgboost import XGBRegressor\n",
        "from sklearn.model_selection import train_test_split\n",
        "from sklearn.metrics import r2_score, mean_squared_error\n",
        "import numpy as np\n",
        "import numpy as np\n",
        "from sklearn.linear_model import LinearRegression"
      ],
      "execution_count": null,
      "outputs": []
    },
    {
      "cell_type": "code",
      "metadata": {
        "colab": {
          "base_uri": "https://localhost:8080/",
          "height": 244
        },
        "id": "46HynC7Yfx6q",
        "outputId": "c42904c1-0f33-4408-c137-d573399c8e45"
      },
      "source": [
        "df=pd.read_csv('/content/zillow_para_integrar_Preparation.csv', delimiter=';')\n",
        "df.head()"
      ],
      "execution_count": null,
      "outputs": [
        {
          "output_type": "execute_result",
          "data": {
            "text/html": [
              "<div>\n",
              "<style scoped>\n",
              "    .dataframe tbody tr th:only-of-type {\n",
              "        vertical-align: middle;\n",
              "    }\n",
              "\n",
              "    .dataframe tbody tr th {\n",
              "        vertical-align: top;\n",
              "    }\n",
              "\n",
              "    .dataframe thead th {\n",
              "        text-align: right;\n",
              "    }\n",
              "</style>\n",
              "<table border=\"1\" class=\"dataframe\">\n",
              "  <thead>\n",
              "    <tr style=\"text-align: right;\">\n",
              "      <th></th>\n",
              "      <th>Unnamed: 0</th>\n",
              "      <th>FIPS</th>\n",
              "      <th>CountyName</th>\n",
              "      <th>StateName</th>\n",
              "      <th>NumberOfSchools</th>\n",
              "      <th>NumberOfHospitals</th>\n",
              "      <th>AverageHospitalRating</th>\n",
              "      <th>UnemploymentRate</th>\n",
              "      <th>ZHVIPerSqft_AllHomes</th>\n",
              "      <th>AverageHousePrice</th>\n",
              "      <th>MedianRentalPrice_AllHomes</th>\n",
              "    </tr>\n",
              "  </thead>\n",
              "  <tbody>\n",
              "    <tr>\n",
              "      <th>0</th>\n",
              "      <td>0</td>\n",
              "      <td>1001</td>\n",
              "      <td>Autauga</td>\n",
              "      <td>Alabama</td>\n",
              "      <td>15</td>\n",
              "      <td>1</td>\n",
              "      <td>4.00</td>\n",
              "      <td>3.6</td>\n",
              "      <td>72.56</td>\n",
              "      <td>114483.67</td>\n",
              "      <td>1255.21</td>\n",
              "    </tr>\n",
              "    <tr>\n",
              "      <th>1</th>\n",
              "      <td>1</td>\n",
              "      <td>1003</td>\n",
              "      <td>Baldwin</td>\n",
              "      <td>Alabama</td>\n",
              "      <td>47</td>\n",
              "      <td>4</td>\n",
              "      <td>3.00</td>\n",
              "      <td>3.6</td>\n",
              "      <td>90.39</td>\n",
              "      <td>164861.69</td>\n",
              "      <td>1165.94</td>\n",
              "    </tr>\n",
              "    <tr>\n",
              "      <th>2</th>\n",
              "      <td>2</td>\n",
              "      <td>1069</td>\n",
              "      <td>Houston</td>\n",
              "      <td>Alabama</td>\n",
              "      <td>31</td>\n",
              "      <td>5</td>\n",
              "      <td>3.50</td>\n",
              "      <td>4.1</td>\n",
              "      <td>72.94</td>\n",
              "      <td>114941.00</td>\n",
              "      <td>975.63</td>\n",
              "    </tr>\n",
              "    <tr>\n",
              "      <th>3</th>\n",
              "      <td>3</td>\n",
              "      <td>1073</td>\n",
              "      <td>Jefferson</td>\n",
              "      <td>Alabama</td>\n",
              "      <td>226</td>\n",
              "      <td>14</td>\n",
              "      <td>2.75</td>\n",
              "      <td>3.7</td>\n",
              "      <td>68.25</td>\n",
              "      <td>99759.77</td>\n",
              "      <td>855.86</td>\n",
              "    </tr>\n",
              "    <tr>\n",
              "      <th>4</th>\n",
              "      <td>4</td>\n",
              "      <td>1081</td>\n",
              "      <td>Lee</td>\n",
              "      <td>Alabama</td>\n",
              "      <td>37</td>\n",
              "      <td>1</td>\n",
              "      <td>4.00</td>\n",
              "      <td>3.6</td>\n",
              "      <td>74.79</td>\n",
              "      <td>148163.22</td>\n",
              "      <td>1143.89</td>\n",
              "    </tr>\n",
              "  </tbody>\n",
              "</table>\n",
              "</div>"
            ],
            "text/plain": [
              "   Unnamed: 0  FIPS  ... AverageHousePrice MedianRentalPrice_AllHomes\n",
              "0           0  1001  ...         114483.67                    1255.21\n",
              "1           1  1003  ...         164861.69                    1165.94\n",
              "2           2  1069  ...         114941.00                     975.63\n",
              "3           3  1073  ...          99759.77                     855.86\n",
              "4           4  1081  ...         148163.22                    1143.89\n",
              "\n",
              "[5 rows x 11 columns]"
            ]
          },
          "metadata": {},
          "execution_count": 2
        }
      ]
    },
    {
      "cell_type": "code",
      "metadata": {
        "colab": {
          "base_uri": "https://localhost:8080/",
          "height": 206
        },
        "id": "r8LjXu2zgy8l",
        "outputId": "db2447d0-7c9f-462e-9f54-bc7574f270ca"
      },
      "source": [
        "df_1= df[['StateName','AverageHospitalRating']]\n",
        "df_1.head()"
      ],
      "execution_count": null,
      "outputs": [
        {
          "output_type": "execute_result",
          "data": {
            "text/html": [
              "<div>\n",
              "<style scoped>\n",
              "    .dataframe tbody tr th:only-of-type {\n",
              "        vertical-align: middle;\n",
              "    }\n",
              "\n",
              "    .dataframe tbody tr th {\n",
              "        vertical-align: top;\n",
              "    }\n",
              "\n",
              "    .dataframe thead th {\n",
              "        text-align: right;\n",
              "    }\n",
              "</style>\n",
              "<table border=\"1\" class=\"dataframe\">\n",
              "  <thead>\n",
              "    <tr style=\"text-align: right;\">\n",
              "      <th></th>\n",
              "      <th>StateName</th>\n",
              "      <th>AverageHospitalRating</th>\n",
              "    </tr>\n",
              "  </thead>\n",
              "  <tbody>\n",
              "    <tr>\n",
              "      <th>0</th>\n",
              "      <td>Alabama</td>\n",
              "      <td>4.00</td>\n",
              "    </tr>\n",
              "    <tr>\n",
              "      <th>1</th>\n",
              "      <td>Alabama</td>\n",
              "      <td>3.00</td>\n",
              "    </tr>\n",
              "    <tr>\n",
              "      <th>2</th>\n",
              "      <td>Alabama</td>\n",
              "      <td>3.50</td>\n",
              "    </tr>\n",
              "    <tr>\n",
              "      <th>3</th>\n",
              "      <td>Alabama</td>\n",
              "      <td>2.75</td>\n",
              "    </tr>\n",
              "    <tr>\n",
              "      <th>4</th>\n",
              "      <td>Alabama</td>\n",
              "      <td>4.00</td>\n",
              "    </tr>\n",
              "  </tbody>\n",
              "</table>\n",
              "</div>"
            ],
            "text/plain": [
              "  StateName  AverageHospitalRating\n",
              "0   Alabama                   4.00\n",
              "1   Alabama                   3.00\n",
              "2   Alabama                   3.50\n",
              "3   Alabama                   2.75\n",
              "4   Alabama                   4.00"
            ]
          },
          "metadata": {},
          "execution_count": 3
        }
      ]
    },
    {
      "cell_type": "code",
      "metadata": {
        "colab": {
          "base_uri": "https://localhost:8080/",
          "height": 300
        },
        "id": "w811Pibdxw5Y",
        "outputId": "dd9bbb1b-2839-47b3-b1e5-385f365c2bb1"
      },
      "source": [
        "df_1.describe()"
      ],
      "execution_count": null,
      "outputs": [
        {
          "output_type": "execute_result",
          "data": {
            "text/html": [
              "<div>\n",
              "<style scoped>\n",
              "    .dataframe tbody tr th:only-of-type {\n",
              "        vertical-align: middle;\n",
              "    }\n",
              "\n",
              "    .dataframe tbody tr th {\n",
              "        vertical-align: top;\n",
              "    }\n",
              "\n",
              "    .dataframe thead th {\n",
              "        text-align: right;\n",
              "    }\n",
              "</style>\n",
              "<table border=\"1\" class=\"dataframe\">\n",
              "  <thead>\n",
              "    <tr style=\"text-align: right;\">\n",
              "      <th></th>\n",
              "      <th>AverageHospitalRating</th>\n",
              "    </tr>\n",
              "  </thead>\n",
              "  <tbody>\n",
              "    <tr>\n",
              "      <th>count</th>\n",
              "      <td>454.000000</td>\n",
              "    </tr>\n",
              "    <tr>\n",
              "      <th>mean</th>\n",
              "      <td>2.992621</td>\n",
              "    </tr>\n",
              "    <tr>\n",
              "      <th>std</th>\n",
              "      <td>0.651571</td>\n",
              "    </tr>\n",
              "    <tr>\n",
              "      <th>min</th>\n",
              "      <td>1.000000</td>\n",
              "    </tr>\n",
              "    <tr>\n",
              "      <th>25%</th>\n",
              "      <td>2.600000</td>\n",
              "    </tr>\n",
              "    <tr>\n",
              "      <th>50%</th>\n",
              "      <td>3.000000</td>\n",
              "    </tr>\n",
              "    <tr>\n",
              "      <th>75%</th>\n",
              "      <td>3.422500</td>\n",
              "    </tr>\n",
              "    <tr>\n",
              "      <th>max</th>\n",
              "      <td>4.500000</td>\n",
              "    </tr>\n",
              "  </tbody>\n",
              "</table>\n",
              "</div>"
            ],
            "text/plain": [
              "       AverageHospitalRating\n",
              "count             454.000000\n",
              "mean                2.992621\n",
              "std                 0.651571\n",
              "min                 1.000000\n",
              "25%                 2.600000\n",
              "50%                 3.000000\n",
              "75%                 3.422500\n",
              "max                 4.500000"
            ]
          },
          "metadata": {},
          "execution_count": 4
        }
      ]
    },
    {
      "cell_type": "code",
      "metadata": {
        "id": "aV9CzYeYiFtY"
      },
      "source": [
        "df['AverageHospitalRating']=df['AverageHospitalRating'].fillna(value=2.99, axis= 0)"
      ],
      "execution_count": null,
      "outputs": []
    },
    {
      "cell_type": "code",
      "metadata": {
        "colab": {
          "base_uri": "https://localhost:8080/",
          "height": 206
        },
        "id": "ZXpcZF1Comul",
        "outputId": "f7161666-fdbb-44cf-a322-ea71b5e38257"
      },
      "source": [
        "df_A=pd.read_csv('/content/crime_para_integrar_Preparation.csv', delimiter=';')\n",
        "df_A.head()"
      ],
      "execution_count": null,
      "outputs": [
        {
          "output_type": "execute_result",
          "data": {
            "text/html": [
              "<div>\n",
              "<style scoped>\n",
              "    .dataframe tbody tr th:only-of-type {\n",
              "        vertical-align: middle;\n",
              "    }\n",
              "\n",
              "    .dataframe tbody tr th {\n",
              "        vertical-align: top;\n",
              "    }\n",
              "\n",
              "    .dataframe thead th {\n",
              "        text-align: right;\n",
              "    }\n",
              "</style>\n",
              "<table border=\"1\" class=\"dataframe\">\n",
              "  <thead>\n",
              "    <tr style=\"text-align: right;\">\n",
              "      <th></th>\n",
              "      <th>Unnamed: 0</th>\n",
              "      <th>county_name</th>\n",
              "      <th>crime_rate_per_100000</th>\n",
              "      <th>FIPS_ST</th>\n",
              "      <th>FIPS_ST_FIPS_CTY</th>\n",
              "      <th>FIPS_CTY</th>\n",
              "    </tr>\n",
              "  </thead>\n",
              "  <tbody>\n",
              "    <tr>\n",
              "      <th>0</th>\n",
              "      <td>0</td>\n",
              "      <td>St. Louis city, MO</td>\n",
              "      <td>1791.995377</td>\n",
              "      <td>29</td>\n",
              "      <td>29510</td>\n",
              "      <td>510</td>\n",
              "    </tr>\n",
              "    <tr>\n",
              "      <th>1</th>\n",
              "      <td>1</td>\n",
              "      <td>Crittenden County, AR</td>\n",
              "      <td>1754.914968</td>\n",
              "      <td>5</td>\n",
              "      <td>5035</td>\n",
              "      <td>35</td>\n",
              "    </tr>\n",
              "    <tr>\n",
              "      <th>2</th>\n",
              "      <td>2</td>\n",
              "      <td>Alexander County, IL</td>\n",
              "      <td>1664.700485</td>\n",
              "      <td>17</td>\n",
              "      <td>17003</td>\n",
              "      <td>3</td>\n",
              "    </tr>\n",
              "    <tr>\n",
              "      <th>3</th>\n",
              "      <td>3</td>\n",
              "      <td>Kenedy County, TX</td>\n",
              "      <td>1456.310680</td>\n",
              "      <td>48</td>\n",
              "      <td>48261</td>\n",
              "      <td>261</td>\n",
              "    </tr>\n",
              "    <tr>\n",
              "      <th>4</th>\n",
              "      <td>4</td>\n",
              "      <td>De Soto Parish, LA</td>\n",
              "      <td>1447.402430</td>\n",
              "      <td>22</td>\n",
              "      <td>22031</td>\n",
              "      <td>31</td>\n",
              "    </tr>\n",
              "  </tbody>\n",
              "</table>\n",
              "</div>"
            ],
            "text/plain": [
              "   Unnamed: 0            county_name  ...  FIPS_ST_FIPS_CTY  FIPS_CTY\n",
              "0           0     St. Louis city, MO  ...             29510       510\n",
              "1           1  Crittenden County, AR  ...              5035        35\n",
              "2           2   Alexander County, IL  ...             17003         3\n",
              "3           3      Kenedy County, TX  ...             48261       261\n",
              "4           4     De Soto Parish, LA  ...             22031        31\n",
              "\n",
              "[5 rows x 6 columns]"
            ]
          },
          "metadata": {},
          "execution_count": 6
        }
      ]
    },
    {
      "cell_type": "code",
      "metadata": {
        "colab": {
          "base_uri": "https://localhost:8080/",
          "height": 206
        },
        "id": "tIXRiJTip-xd",
        "outputId": "b18d443d-81a6-4392-e0ac-76e601d4d465"
      },
      "source": [
        "df_A = df_A[['FIPS_ST_FIPS_CTY','crime_rate_per_100000']]\n",
        "df_A.head()"
      ],
      "execution_count": null,
      "outputs": [
        {
          "output_type": "execute_result",
          "data": {
            "text/html": [
              "<div>\n",
              "<style scoped>\n",
              "    .dataframe tbody tr th:only-of-type {\n",
              "        vertical-align: middle;\n",
              "    }\n",
              "\n",
              "    .dataframe tbody tr th {\n",
              "        vertical-align: top;\n",
              "    }\n",
              "\n",
              "    .dataframe thead th {\n",
              "        text-align: right;\n",
              "    }\n",
              "</style>\n",
              "<table border=\"1\" class=\"dataframe\">\n",
              "  <thead>\n",
              "    <tr style=\"text-align: right;\">\n",
              "      <th></th>\n",
              "      <th>FIPS_ST_FIPS_CTY</th>\n",
              "      <th>crime_rate_per_100000</th>\n",
              "    </tr>\n",
              "  </thead>\n",
              "  <tbody>\n",
              "    <tr>\n",
              "      <th>0</th>\n",
              "      <td>29510</td>\n",
              "      <td>1791.995377</td>\n",
              "    </tr>\n",
              "    <tr>\n",
              "      <th>1</th>\n",
              "      <td>5035</td>\n",
              "      <td>1754.914968</td>\n",
              "    </tr>\n",
              "    <tr>\n",
              "      <th>2</th>\n",
              "      <td>17003</td>\n",
              "      <td>1664.700485</td>\n",
              "    </tr>\n",
              "    <tr>\n",
              "      <th>3</th>\n",
              "      <td>48261</td>\n",
              "      <td>1456.310680</td>\n",
              "    </tr>\n",
              "    <tr>\n",
              "      <th>4</th>\n",
              "      <td>22031</td>\n",
              "      <td>1447.402430</td>\n",
              "    </tr>\n",
              "  </tbody>\n",
              "</table>\n",
              "</div>"
            ],
            "text/plain": [
              "   FIPS_ST_FIPS_CTY  crime_rate_per_100000\n",
              "0             29510            1791.995377\n",
              "1              5035            1754.914968\n",
              "2             17003            1664.700485\n",
              "3             48261            1456.310680\n",
              "4             22031            1447.402430"
            ]
          },
          "metadata": {},
          "execution_count": 7
        }
      ]
    },
    {
      "cell_type": "code",
      "metadata": {
        "colab": {
          "base_uri": "https://localhost:8080/",
          "height": 244
        },
        "id": "hbGaMytnsmyQ",
        "outputId": "f1d746f2-5cf9-4e22-fd5a-5ab0b456ebc7"
      },
      "source": [
        "dataset = pd.merge(df, df_A, how='left', left_on='FIPS', right_on='FIPS_ST_FIPS_CTY')\n",
        "dataset.head()"
      ],
      "execution_count": null,
      "outputs": [
        {
          "output_type": "execute_result",
          "data": {
            "text/html": [
              "<div>\n",
              "<style scoped>\n",
              "    .dataframe tbody tr th:only-of-type {\n",
              "        vertical-align: middle;\n",
              "    }\n",
              "\n",
              "    .dataframe tbody tr th {\n",
              "        vertical-align: top;\n",
              "    }\n",
              "\n",
              "    .dataframe thead th {\n",
              "        text-align: right;\n",
              "    }\n",
              "</style>\n",
              "<table border=\"1\" class=\"dataframe\">\n",
              "  <thead>\n",
              "    <tr style=\"text-align: right;\">\n",
              "      <th></th>\n",
              "      <th>Unnamed: 0</th>\n",
              "      <th>FIPS</th>\n",
              "      <th>CountyName</th>\n",
              "      <th>StateName</th>\n",
              "      <th>NumberOfSchools</th>\n",
              "      <th>NumberOfHospitals</th>\n",
              "      <th>AverageHospitalRating</th>\n",
              "      <th>UnemploymentRate</th>\n",
              "      <th>ZHVIPerSqft_AllHomes</th>\n",
              "      <th>AverageHousePrice</th>\n",
              "      <th>MedianRentalPrice_AllHomes</th>\n",
              "      <th>FIPS_ST_FIPS_CTY</th>\n",
              "      <th>crime_rate_per_100000</th>\n",
              "    </tr>\n",
              "  </thead>\n",
              "  <tbody>\n",
              "    <tr>\n",
              "      <th>0</th>\n",
              "      <td>0</td>\n",
              "      <td>1001</td>\n",
              "      <td>Autauga</td>\n",
              "      <td>Alabama</td>\n",
              "      <td>15</td>\n",
              "      <td>1</td>\n",
              "      <td>4.00</td>\n",
              "      <td>3.6</td>\n",
              "      <td>72.56</td>\n",
              "      <td>114483.67</td>\n",
              "      <td>1255.21</td>\n",
              "      <td>1001.0</td>\n",
              "      <td>251.601926</td>\n",
              "    </tr>\n",
              "    <tr>\n",
              "      <th>1</th>\n",
              "      <td>1</td>\n",
              "      <td>1003</td>\n",
              "      <td>Baldwin</td>\n",
              "      <td>Alabama</td>\n",
              "      <td>47</td>\n",
              "      <td>4</td>\n",
              "      <td>3.00</td>\n",
              "      <td>3.6</td>\n",
              "      <td>90.39</td>\n",
              "      <td>164861.69</td>\n",
              "      <td>1165.94</td>\n",
              "      <td>1003.0</td>\n",
              "      <td>228.086325</td>\n",
              "    </tr>\n",
              "    <tr>\n",
              "      <th>2</th>\n",
              "      <td>2</td>\n",
              "      <td>1069</td>\n",
              "      <td>Houston</td>\n",
              "      <td>Alabama</td>\n",
              "      <td>31</td>\n",
              "      <td>5</td>\n",
              "      <td>3.50</td>\n",
              "      <td>4.1</td>\n",
              "      <td>72.94</td>\n",
              "      <td>114941.00</td>\n",
              "      <td>975.63</td>\n",
              "      <td>1069.0</td>\n",
              "      <td>401.281012</td>\n",
              "    </tr>\n",
              "    <tr>\n",
              "      <th>3</th>\n",
              "      <td>3</td>\n",
              "      <td>1073</td>\n",
              "      <td>Jefferson</td>\n",
              "      <td>Alabama</td>\n",
              "      <td>226</td>\n",
              "      <td>14</td>\n",
              "      <td>2.75</td>\n",
              "      <td>3.7</td>\n",
              "      <td>68.25</td>\n",
              "      <td>99759.77</td>\n",
              "      <td>855.86</td>\n",
              "      <td>1073.0</td>\n",
              "      <td>798.357491</td>\n",
              "    </tr>\n",
              "    <tr>\n",
              "      <th>4</th>\n",
              "      <td>4</td>\n",
              "      <td>1081</td>\n",
              "      <td>Lee</td>\n",
              "      <td>Alabama</td>\n",
              "      <td>37</td>\n",
              "      <td>1</td>\n",
              "      <td>4.00</td>\n",
              "      <td>3.6</td>\n",
              "      <td>74.79</td>\n",
              "      <td>148163.22</td>\n",
              "      <td>1143.89</td>\n",
              "      <td>1081.0</td>\n",
              "      <td>246.466975</td>\n",
              "    </tr>\n",
              "  </tbody>\n",
              "</table>\n",
              "</div>"
            ],
            "text/plain": [
              "   Unnamed: 0  FIPS  ... FIPS_ST_FIPS_CTY crime_rate_per_100000\n",
              "0           0  1001  ...           1001.0            251.601926\n",
              "1           1  1003  ...           1003.0            228.086325\n",
              "2           2  1069  ...           1069.0            401.281012\n",
              "3           3  1073  ...           1073.0            798.357491\n",
              "4           4  1081  ...           1081.0            246.466975\n",
              "\n",
              "[5 rows x 13 columns]"
            ]
          },
          "metadata": {},
          "execution_count": 8
        }
      ]
    },
    {
      "cell_type": "code",
      "metadata": {
        "id": "BC6WwUCX0eSx"
      },
      "source": [
        "dataset= dataset[['FIPS','CountyName','StateName','NumberOfSchools','NumberOfHospitals','AverageHospitalRating','UnemploymentRate','crime_rate_per_100000','AverageHousePrice','ZHVIPerSqft_AllHomes','MedianRentalPrice_AllHomes']]"
      ],
      "execution_count": null,
      "outputs": []
    },
    {
      "cell_type": "code",
      "metadata": {
        "colab": {
          "base_uri": "https://localhost:8080/",
          "height": 226
        },
        "id": "PyIn5Fj41R6d",
        "outputId": "3943bbfb-2d8d-4229-aee9-50691a1773b8"
      },
      "source": [
        "dataset.head()"
      ],
      "execution_count": null,
      "outputs": [
        {
          "output_type": "execute_result",
          "data": {
            "text/html": [
              "<div>\n",
              "<style scoped>\n",
              "    .dataframe tbody tr th:only-of-type {\n",
              "        vertical-align: middle;\n",
              "    }\n",
              "\n",
              "    .dataframe tbody tr th {\n",
              "        vertical-align: top;\n",
              "    }\n",
              "\n",
              "    .dataframe thead th {\n",
              "        text-align: right;\n",
              "    }\n",
              "</style>\n",
              "<table border=\"1\" class=\"dataframe\">\n",
              "  <thead>\n",
              "    <tr style=\"text-align: right;\">\n",
              "      <th></th>\n",
              "      <th>FIPS</th>\n",
              "      <th>CountyName</th>\n",
              "      <th>StateName</th>\n",
              "      <th>NumberOfSchools</th>\n",
              "      <th>NumberOfHospitals</th>\n",
              "      <th>AverageHospitalRating</th>\n",
              "      <th>UnemploymentRate</th>\n",
              "      <th>crime_rate_per_100000</th>\n",
              "      <th>AverageHousePrice</th>\n",
              "      <th>ZHVIPerSqft_AllHomes</th>\n",
              "      <th>MedianRentalPrice_AllHomes</th>\n",
              "    </tr>\n",
              "  </thead>\n",
              "  <tbody>\n",
              "    <tr>\n",
              "      <th>0</th>\n",
              "      <td>1001</td>\n",
              "      <td>Autauga</td>\n",
              "      <td>Alabama</td>\n",
              "      <td>15</td>\n",
              "      <td>1</td>\n",
              "      <td>4.00</td>\n",
              "      <td>3.6</td>\n",
              "      <td>251.601926</td>\n",
              "      <td>114483.67</td>\n",
              "      <td>72.56</td>\n",
              "      <td>1255.21</td>\n",
              "    </tr>\n",
              "    <tr>\n",
              "      <th>1</th>\n",
              "      <td>1003</td>\n",
              "      <td>Baldwin</td>\n",
              "      <td>Alabama</td>\n",
              "      <td>47</td>\n",
              "      <td>4</td>\n",
              "      <td>3.00</td>\n",
              "      <td>3.6</td>\n",
              "      <td>228.086325</td>\n",
              "      <td>164861.69</td>\n",
              "      <td>90.39</td>\n",
              "      <td>1165.94</td>\n",
              "    </tr>\n",
              "    <tr>\n",
              "      <th>2</th>\n",
              "      <td>1069</td>\n",
              "      <td>Houston</td>\n",
              "      <td>Alabama</td>\n",
              "      <td>31</td>\n",
              "      <td>5</td>\n",
              "      <td>3.50</td>\n",
              "      <td>4.1</td>\n",
              "      <td>401.281012</td>\n",
              "      <td>114941.00</td>\n",
              "      <td>72.94</td>\n",
              "      <td>975.63</td>\n",
              "    </tr>\n",
              "    <tr>\n",
              "      <th>3</th>\n",
              "      <td>1073</td>\n",
              "      <td>Jefferson</td>\n",
              "      <td>Alabama</td>\n",
              "      <td>226</td>\n",
              "      <td>14</td>\n",
              "      <td>2.75</td>\n",
              "      <td>3.7</td>\n",
              "      <td>798.357491</td>\n",
              "      <td>99759.77</td>\n",
              "      <td>68.25</td>\n",
              "      <td>855.86</td>\n",
              "    </tr>\n",
              "    <tr>\n",
              "      <th>4</th>\n",
              "      <td>1081</td>\n",
              "      <td>Lee</td>\n",
              "      <td>Alabama</td>\n",
              "      <td>37</td>\n",
              "      <td>1</td>\n",
              "      <td>4.00</td>\n",
              "      <td>3.6</td>\n",
              "      <td>246.466975</td>\n",
              "      <td>148163.22</td>\n",
              "      <td>74.79</td>\n",
              "      <td>1143.89</td>\n",
              "    </tr>\n",
              "  </tbody>\n",
              "</table>\n",
              "</div>"
            ],
            "text/plain": [
              "   FIPS CountyName  ... ZHVIPerSqft_AllHomes  MedianRentalPrice_AllHomes\n",
              "0  1001    Autauga  ...                72.56                     1255.21\n",
              "1  1003    Baldwin  ...                90.39                     1165.94\n",
              "2  1069    Houston  ...                72.94                      975.63\n",
              "3  1073  Jefferson  ...                68.25                      855.86\n",
              "4  1081        Lee  ...                74.79                     1143.89\n",
              "\n",
              "[5 rows x 11 columns]"
            ]
          },
          "metadata": {},
          "execution_count": 10
        }
      ]
    },
    {
      "cell_type": "code",
      "metadata": {
        "id": "28W0zZq5zlud"
      },
      "source": [
        "dataset['crime_rate_per_100000'] =dataset['crime_rate_per_100000'].fillna(value=344,axis= 0)"
      ],
      "execution_count": null,
      "outputs": []
    },
    {
      "cell_type": "code",
      "metadata": {
        "id": "pdzt6xhv0hJM"
      },
      "source": [
        "dataset.to_csv(r'/content/dataset.csv', index = False)"
      ],
      "execution_count": null,
      "outputs": []
    },
    {
      "cell_type": "markdown",
      "metadata": {
        "id": "qBLPys2L0Bup"
      },
      "source": [
        "Reescalamos los datos en un rango de 0 a 1."
      ]
    },
    {
      "cell_type": "code",
      "metadata": {
        "colab": {
          "base_uri": "https://localhost:8080/"
        },
        "id": "xDi3KTQGvh3P",
        "outputId": "fbacc45e-2f18-4a27-dc9e-f8a0ad62939e"
      },
      "source": [
        "array = dataset.values\n",
        "X = array[:,3:8]\n",
        "Y = array[:,8]\n",
        "scaler = MinMaxScaler(feature_range=(0,1))\n",
        "rescaledX = scaler.fit_transform(X)\n",
        "np.set_printoptions(precision=3)\n",
        "print(rescaledX[0:5,:])"
      ],
      "execution_count": null,
      "outputs": [
        {
          "output_type": "stream",
          "text": [
            "[[0.003 0.    0.857 0.131 0.124]\n",
            " [0.017 0.023 0.571 0.131 0.111]\n",
            " [0.01  0.031 0.714 0.163 0.209]\n",
            " [0.096 0.1   0.5   0.137 0.435]\n",
            " [0.013 0.    0.857 0.131 0.121]]\n"
          ],
          "name": "stdout"
        }
      ]
    },
    {
      "cell_type": "markdown",
      "metadata": {
        "id": "Kb4hMnMc2K7V"
      },
      "source": [
        "Estandarizar datos, media 0 y desviación stándar 1"
      ]
    },
    {
      "cell_type": "code",
      "metadata": {
        "colab": {
          "base_uri": "https://localhost:8080/"
        },
        "id": "LrGhTXu72k67",
        "outputId": "155efd37-e99b-42b1-d7c5-f836b9806605"
      },
      "source": [
        "scaler = StandardScaler().fit(X)\n",
        "rescaledX = scaler.transform(X)\n",
        "print(rescaledX[0:5,:])"
      ],
      "execution_count": null,
      "outputs": [
        {
          "output_type": "stream",
          "text": [
            "[[-0.604 -0.643  1.681 -0.236 -0.409]\n",
            " [-0.404 -0.344  0.013 -0.236 -0.512]\n",
            " [-0.504 -0.244  0.847  0.211  0.252]\n",
            " [ 0.716  0.653 -0.404 -0.147  2.006]\n",
            " [-0.467 -0.643  1.681 -0.236 -0.431]]\n"
          ],
          "name": "stdout"
        }
      ]
    },
    {
      "cell_type": "markdown",
      "metadata": {
        "id": "tmjNw7BW3Lvy"
      },
      "source": [
        "Selección de caracteristicas"
      ]
    },
    {
      "cell_type": "code",
      "metadata": {
        "colab": {
          "base_uri": "https://localhost:8080/",
          "height": 920
        },
        "id": "bUshkJmN3NqE",
        "outputId": "dde17137-cd63-44d7-8798-e1888f4d4891"
      },
      "source": [
        "corrmat = dataset.iloc[:,0:9].corr()\n",
        "plt.subplots(figsize=(15,15))\n",
        "sns.heatmap(corrmat.abs(), vmax=.4, square=True)"
      ],
      "execution_count": null,
      "outputs": [
        {
          "output_type": "execute_result",
          "data": {
            "text/plain": [
              "<matplotlib.axes._subplots.AxesSubplot at 0x7f9159541790>"
            ]
          },
          "metadata": {
            "tags": []
          },
          "execution_count": 49
        },
        {
          "output_type": "display_data",
          "data": {
            "image/png": "[encoded data removed]",
            "text/plain": [
              "<Figure size 1080x1080 with 2 Axes>"
            ]
          },
          "metadata": {
            "tags": [],
            "needs_background": "light"
          }
        }
      ]
    },
    {
      "cell_type": "code",
      "metadata": {
        "colab": {
          "base_uri": "https://localhost:8080/",
          "height": 278
        },
        "id": "nlrFsq9nF0Eb",
        "outputId": "0be668ff-83d2-49b9-a4d3-339b69f021e3"
      },
      "source": [
        "corrmat"
      ],
      "execution_count": null,
      "outputs": [
        {
          "output_type": "execute_result",
          "data": {
            "text/html": [
              "<div>\n",
              "<style scoped>\n",
              "    .dataframe tbody tr th:only-of-type {\n",
              "        vertical-align: middle;\n",
              "    }\n",
              "\n",
              "    .dataframe tbody tr th {\n",
              "        vertical-align: top;\n",
              "    }\n",
              "\n",
              "    .dataframe thead th {\n",
              "        text-align: right;\n",
              "    }\n",
              "</style>\n",
              "<table border=\"1\" class=\"dataframe\">\n",
              "  <thead>\n",
              "    <tr style=\"text-align: right;\">\n",
              "      <th></th>\n",
              "      <th>FIPS</th>\n",
              "      <th>NumberOfSchools</th>\n",
              "      <th>NumberOfHospitals</th>\n",
              "      <th>AverageHospitalRating</th>\n",
              "      <th>UnemploymentRate</th>\n",
              "      <th>crime_rate_per_100000</th>\n",
              "      <th>AverageHousePrice</th>\n",
              "    </tr>\n",
              "  </thead>\n",
              "  <tbody>\n",
              "    <tr>\n",
              "      <th>FIPS</th>\n",
              "      <td>1.000000</td>\n",
              "      <td>-0.130805</td>\n",
              "      <td>-0.090345</td>\n",
              "      <td>0.046770</td>\n",
              "      <td>-0.071574</td>\n",
              "      <td>-0.118640</td>\n",
              "      <td>-0.141607</td>\n",
              "    </tr>\n",
              "    <tr>\n",
              "      <th>NumberOfSchools</th>\n",
              "      <td>-0.130805</td>\n",
              "      <td>1.000000</td>\n",
              "      <td>0.924452</td>\n",
              "      <td>-0.092216</td>\n",
              "      <td>0.038775</td>\n",
              "      <td>0.213603</td>\n",
              "      <td>0.254816</td>\n",
              "    </tr>\n",
              "    <tr>\n",
              "      <th>NumberOfHospitals</th>\n",
              "      <td>-0.090345</td>\n",
              "      <td>0.924452</td>\n",
              "      <td>1.000000</td>\n",
              "      <td>-0.069775</td>\n",
              "      <td>0.028455</td>\n",
              "      <td>0.328029</td>\n",
              "      <td>0.172290</td>\n",
              "    </tr>\n",
              "    <tr>\n",
              "      <th>AverageHospitalRating</th>\n",
              "      <td>0.046770</td>\n",
              "      <td>-0.092216</td>\n",
              "      <td>-0.069775</td>\n",
              "      <td>1.000000</td>\n",
              "      <td>-0.260422</td>\n",
              "      <td>-0.208806</td>\n",
              "      <td>0.002206</td>\n",
              "    </tr>\n",
              "    <tr>\n",
              "      <th>UnemploymentRate</th>\n",
              "      <td>-0.071574</td>\n",
              "      <td>0.038775</td>\n",
              "      <td>0.028455</td>\n",
              "      <td>-0.260422</td>\n",
              "      <td>1.000000</td>\n",
              "      <td>0.242979</td>\n",
              "      <td>-0.227533</td>\n",
              "    </tr>\n",
              "    <tr>\n",
              "      <th>crime_rate_per_100000</th>\n",
              "      <td>-0.118640</td>\n",
              "      <td>0.213603</td>\n",
              "      <td>0.328029</td>\n",
              "      <td>-0.208806</td>\n",
              "      <td>0.242979</td>\n",
              "      <td>1.000000</td>\n",
              "      <td>-0.177137</td>\n",
              "    </tr>\n",
              "    <tr>\n",
              "      <th>AverageHousePrice</th>\n",
              "      <td>-0.141607</td>\n",
              "      <td>0.254816</td>\n",
              "      <td>0.172290</td>\n",
              "      <td>0.002206</td>\n",
              "      <td>-0.227533</td>\n",
              "      <td>-0.177137</td>\n",
              "      <td>1.000000</td>\n",
              "    </tr>\n",
              "  </tbody>\n",
              "</table>\n",
              "</div>"
            ],
            "text/plain": [
              "                           FIPS  ...  AverageHousePrice\n",
              "FIPS                   1.000000  ...          -0.141607\n",
              "NumberOfSchools       -0.130805  ...           0.254816\n",
              "NumberOfHospitals     -0.090345  ...           0.172290\n",
              "AverageHospitalRating  0.046770  ...           0.002206\n",
              "UnemploymentRate      -0.071574  ...          -0.227533\n",
              "crime_rate_per_100000 -0.118640  ...          -0.177137\n",
              "AverageHousePrice     -0.141607  ...           1.000000\n",
              "\n",
              "[7 rows x 7 columns]"
            ]
          },
          "metadata": {
            "tags": []
          },
          "execution_count": 50
        }
      ]
    },
    {
      "cell_type": "code",
      "metadata": {
        "id": "h9iW50LDLDrD"
      },
      "source": [
        "dataset_modelo= dataset[['FIPS','CountyName','StateName','NumberOfSchools','UnemploymentRate','crime_rate_per_100000','AverageHousePrice','ZHVIPerSqft_AllHomes','MedianRentalPrice_AllHomes']]"
      ],
      "execution_count": null,
      "outputs": []
    },
    {
      "cell_type": "code",
      "metadata": {
        "colab": {
          "base_uri": "https://localhost:8080/",
          "height": 218
        },
        "id": "a6jDlX9ULeDD",
        "outputId": "bb26ac31-d98c-48ef-c571-a5de96008944"
      },
      "source": [
        "dataset_modelo.head()"
      ],
      "execution_count": null,
      "outputs": [
        {
          "output_type": "execute_result",
          "data": {
            "text/html": [
              "<div>\n",
              "<style scoped>\n",
              "    .dataframe tbody tr th:only-of-type {\n",
              "        vertical-align: middle;\n",
              "    }\n",
              "\n",
              "    .dataframe tbody tr th {\n",
              "        vertical-align: top;\n",
              "    }\n",
              "\n",
              "    .dataframe thead th {\n",
              "        text-align: right;\n",
              "    }\n",
              "</style>\n",
              "<table border=\"1\" class=\"dataframe\">\n",
              "  <thead>\n",
              "    <tr style=\"text-align: right;\">\n",
              "      <th></th>\n",
              "      <th>FIPS</th>\n",
              "      <th>CountyName</th>\n",
              "      <th>StateName</th>\n",
              "      <th>NumberOfSchools</th>\n",
              "      <th>UnemploymentRate</th>\n",
              "      <th>crime_rate_per_100000</th>\n",
              "      <th>AverageHousePrice</th>\n",
              "      <th>ZHVIPerSqft_AllHomes</th>\n",
              "      <th>MedianRentalPrice_AllHomes</th>\n",
              "    </tr>\n",
              "  </thead>\n",
              "  <tbody>\n",
              "    <tr>\n",
              "      <th>0</th>\n",
              "      <td>1001</td>\n",
              "      <td>Autauga</td>\n",
              "      <td>Alabama</td>\n",
              "      <td>15</td>\n",
              "      <td>3.6</td>\n",
              "      <td>251.601926</td>\n",
              "      <td>114483.67</td>\n",
              "      <td>72.56</td>\n",
              "      <td>1255.21</td>\n",
              "    </tr>\n",
              "    <tr>\n",
              "      <th>1</th>\n",
              "      <td>1003</td>\n",
              "      <td>Baldwin</td>\n",
              "      <td>Alabama</td>\n",
              "      <td>47</td>\n",
              "      <td>3.6</td>\n",
              "      <td>228.086325</td>\n",
              "      <td>164861.69</td>\n",
              "      <td>90.39</td>\n",
              "      <td>1165.94</td>\n",
              "    </tr>\n",
              "    <tr>\n",
              "      <th>2</th>\n",
              "      <td>1069</td>\n",
              "      <td>Houston</td>\n",
              "      <td>Alabama</td>\n",
              "      <td>31</td>\n",
              "      <td>4.1</td>\n",
              "      <td>401.281012</td>\n",
              "      <td>114941.00</td>\n",
              "      <td>72.94</td>\n",
              "      <td>975.63</td>\n",
              "    </tr>\n",
              "    <tr>\n",
              "      <th>3</th>\n",
              "      <td>1073</td>\n",
              "      <td>Jefferson</td>\n",
              "      <td>Alabama</td>\n",
              "      <td>226</td>\n",
              "      <td>3.7</td>\n",
              "      <td>798.357491</td>\n",
              "      <td>99759.77</td>\n",
              "      <td>68.25</td>\n",
              "      <td>855.86</td>\n",
              "    </tr>\n",
              "    <tr>\n",
              "      <th>4</th>\n",
              "      <td>1081</td>\n",
              "      <td>Lee</td>\n",
              "      <td>Alabama</td>\n",
              "      <td>37</td>\n",
              "      <td>3.6</td>\n",
              "      <td>246.466975</td>\n",
              "      <td>148163.22</td>\n",
              "      <td>74.79</td>\n",
              "      <td>1143.89</td>\n",
              "    </tr>\n",
              "  </tbody>\n",
              "</table>\n",
              "</div>"
            ],
            "text/plain": [
              "   FIPS CountyName  ... ZHVIPerSqft_AllHomes  MedianRentalPrice_AllHomes\n",
              "0  1001    Autauga  ...                72.56                     1255.21\n",
              "1  1003    Baldwin  ...                90.39                     1165.94\n",
              "2  1069    Houston  ...                72.94                      975.63\n",
              "3  1073  Jefferson  ...                68.25                      855.86\n",
              "4  1081        Lee  ...                74.79                     1143.89\n",
              "\n",
              "[5 rows x 9 columns]"
            ]
          },
          "metadata": {
            "tags": []
          },
          "execution_count": 52
        }
      ]
    },
    {
      "cell_type": "code",
      "metadata": {
        "colab": {
          "base_uri": "https://localhost:8080/",
          "height": 218
        },
        "id": "6kTDrNicRlLV",
        "outputId": "981b0927-eebe-4bb1-f4fe-b88814c0124a"
      },
      "source": [
        "dataset.head()"
      ],
      "execution_count": null,
      "outputs": [
        {
          "output_type": "execute_result",
          "data": {
            "text/html": [
              "<div>\n",
              "<style scoped>\n",
              "    .dataframe tbody tr th:only-of-type {\n",
              "        vertical-align: middle;\n",
              "    }\n",
              "\n",
              "    .dataframe tbody tr th {\n",
              "        vertical-align: top;\n",
              "    }\n",
              "\n",
              "    .dataframe thead th {\n",
              "        text-align: right;\n",
              "    }\n",
              "</style>\n",
              "<table border=\"1\" class=\"dataframe\">\n",
              "  <thead>\n",
              "    <tr style=\"text-align: right;\">\n",
              "      <th></th>\n",
              "      <th>FIPS</th>\n",
              "      <th>CountyName</th>\n",
              "      <th>StateName</th>\n",
              "      <th>NumberOfSchools</th>\n",
              "      <th>NumberOfHospitals</th>\n",
              "      <th>AverageHospitalRating</th>\n",
              "      <th>UnemploymentRate</th>\n",
              "      <th>crime_rate_per_100000</th>\n",
              "      <th>AverageHousePrice</th>\n",
              "      <th>ZHVIPerSqft_AllHomes</th>\n",
              "      <th>MedianRentalPrice_AllHomes</th>\n",
              "    </tr>\n",
              "  </thead>\n",
              "  <tbody>\n",
              "    <tr>\n",
              "      <th>0</th>\n",
              "      <td>1001</td>\n",
              "      <td>Autauga</td>\n",
              "      <td>Alabama</td>\n",
              "      <td>15</td>\n",
              "      <td>1</td>\n",
              "      <td>4.00</td>\n",
              "      <td>3.6</td>\n",
              "      <td>251.601926</td>\n",
              "      <td>114483.67</td>\n",
              "      <td>72.56</td>\n",
              "      <td>1255.21</td>\n",
              "    </tr>\n",
              "    <tr>\n",
              "      <th>1</th>\n",
              "      <td>1003</td>\n",
              "      <td>Baldwin</td>\n",
              "      <td>Alabama</td>\n",
              "      <td>47</td>\n",
              "      <td>4</td>\n",
              "      <td>3.00</td>\n",
              "      <td>3.6</td>\n",
              "      <td>228.086325</td>\n",
              "      <td>164861.69</td>\n",
              "      <td>90.39</td>\n",
              "      <td>1165.94</td>\n",
              "    </tr>\n",
              "    <tr>\n",
              "      <th>2</th>\n",
              "      <td>1069</td>\n",
              "      <td>Houston</td>\n",
              "      <td>Alabama</td>\n",
              "      <td>31</td>\n",
              "      <td>5</td>\n",
              "      <td>3.50</td>\n",
              "      <td>4.1</td>\n",
              "      <td>401.281012</td>\n",
              "      <td>114941.00</td>\n",
              "      <td>72.94</td>\n",
              "      <td>975.63</td>\n",
              "    </tr>\n",
              "    <tr>\n",
              "      <th>3</th>\n",
              "      <td>1073</td>\n",
              "      <td>Jefferson</td>\n",
              "      <td>Alabama</td>\n",
              "      <td>226</td>\n",
              "      <td>14</td>\n",
              "      <td>2.75</td>\n",
              "      <td>3.7</td>\n",
              "      <td>798.357491</td>\n",
              "      <td>99759.77</td>\n",
              "      <td>68.25</td>\n",
              "      <td>855.86</td>\n",
              "    </tr>\n",
              "    <tr>\n",
              "      <th>4</th>\n",
              "      <td>1081</td>\n",
              "      <td>Lee</td>\n",
              "      <td>Alabama</td>\n",
              "      <td>37</td>\n",
              "      <td>1</td>\n",
              "      <td>4.00</td>\n",
              "      <td>3.6</td>\n",
              "      <td>246.466975</td>\n",
              "      <td>148163.22</td>\n",
              "      <td>74.79</td>\n",
              "      <td>1143.89</td>\n",
              "    </tr>\n",
              "  </tbody>\n",
              "</table>\n",
              "</div>"
            ],
            "text/plain": [
              "   FIPS CountyName  ... ZHVIPerSqft_AllHomes  MedianRentalPrice_AllHomes\n",
              "0  1001    Autauga  ...                72.56                     1255.21\n",
              "1  1003    Baldwin  ...                90.39                     1165.94\n",
              "2  1069    Houston  ...                72.94                      975.63\n",
              "3  1073  Jefferson  ...                68.25                      855.86\n",
              "4  1081        Lee  ...                74.79                     1143.89\n",
              "\n",
              "[5 rows x 11 columns]"
            ]
          },
          "metadata": {
            "tags": []
          },
          "execution_count": 53
        }
      ]
    },
    {
      "cell_type": "code",
      "metadata": {
        "colab": {
          "base_uri": "https://localhost:8080/",
          "height": 248
        },
        "id": "wyD7VujBLjVS",
        "outputId": "6e4e9fa6-7beb-4990-892a-c5a651b09009"
      },
      "source": [
        "dataset_estad = dataset.groupby('StateName').mean()\n",
        "dataset_estad.head()"
      ],
      "execution_count": null,
      "outputs": [
        {
          "output_type": "execute_result",
          "data": {
            "text/html": [
              "<div>\n",
              "<style scoped>\n",
              "    .dataframe tbody tr th:only-of-type {\n",
              "        vertical-align: middle;\n",
              "    }\n",
              "\n",
              "    .dataframe tbody tr th {\n",
              "        vertical-align: top;\n",
              "    }\n",
              "\n",
              "    .dataframe thead th {\n",
              "        text-align: right;\n",
              "    }\n",
              "</style>\n",
              "<table border=\"1\" class=\"dataframe\">\n",
              "  <thead>\n",
              "    <tr style=\"text-align: right;\">\n",
              "      <th></th>\n",
              "      <th>FIPS</th>\n",
              "      <th>NumberOfSchools</th>\n",
              "      <th>NumberOfHospitals</th>\n",
              "      <th>AverageHospitalRating</th>\n",
              "      <th>UnemploymentRate</th>\n",
              "      <th>crime_rate_per_100000</th>\n",
              "      <th>AverageHousePrice</th>\n",
              "      <th>ZHVIPerSqft_AllHomes</th>\n",
              "      <th>MedianRentalPrice_AllHomes</th>\n",
              "    </tr>\n",
              "    <tr>\n",
              "      <th>StateName</th>\n",
              "      <th></th>\n",
              "      <th></th>\n",
              "      <th></th>\n",
              "      <th></th>\n",
              "      <th></th>\n",
              "      <th></th>\n",
              "      <th></th>\n",
              "      <th></th>\n",
              "      <th></th>\n",
              "    </tr>\n",
              "  </thead>\n",
              "  <tbody>\n",
              "    <tr>\n",
              "      <th>Alabama</th>\n",
              "      <td>1074.333333</td>\n",
              "      <td>64.111111</td>\n",
              "      <td>4.222222</td>\n",
              "      <td>3.248889</td>\n",
              "      <td>3.755556</td>\n",
              "      <td>367.623005</td>\n",
              "      <td>126389.502222</td>\n",
              "      <td>77.595556</td>\n",
              "      <td>1091.183333</td>\n",
              "    </tr>\n",
              "    <tr>\n",
              "      <th>Alaska</th>\n",
              "      <td>2055.000000</td>\n",
              "      <td>68.500000</td>\n",
              "      <td>6.000000</td>\n",
              "      <td>3.000000</td>\n",
              "      <td>5.800000</td>\n",
              "      <td>503.463649</td>\n",
              "      <td>224431.545000</td>\n",
              "      <td>141.545000</td>\n",
              "      <td>1644.420000</td>\n",
              "    </tr>\n",
              "    <tr>\n",
              "      <th>Arizona</th>\n",
              "      <td>4016.000000</td>\n",
              "      <td>272.875000</td>\n",
              "      <td>15.500000</td>\n",
              "      <td>2.537500</td>\n",
              "      <td>6.425000</td>\n",
              "      <td>357.172732</td>\n",
              "      <td>162983.865000</td>\n",
              "      <td>99.871250</td>\n",
              "      <td>1164.912500</td>\n",
              "    </tr>\n",
              "    <tr>\n",
              "      <th>Arkansas</th>\n",
              "      <td>5081.500000</td>\n",
              "      <td>54.500000</td>\n",
              "      <td>7.500000</td>\n",
              "      <td>2.833750</td>\n",
              "      <td>3.225000</td>\n",
              "      <td>443.758312</td>\n",
              "      <td>110337.643750</td>\n",
              "      <td>68.406250</td>\n",
              "      <td>986.997500</td>\n",
              "    </tr>\n",
              "    <tr>\n",
              "      <th>California</th>\n",
              "      <td>6063.764706</td>\n",
              "      <td>279.588235</td>\n",
              "      <td>15.470588</td>\n",
              "      <td>2.891176</td>\n",
              "      <td>4.464706</td>\n",
              "      <td>416.132304</td>\n",
              "      <td>347019.674412</td>\n",
              "      <td>224.356471</td>\n",
              "      <td>2044.105882</td>\n",
              "    </tr>\n",
              "  </tbody>\n",
              "</table>\n",
              "</div>"
            ],
            "text/plain": [
              "                   FIPS  ...  MedianRentalPrice_AllHomes\n",
              "StateName                ...                            \n",
              "Alabama     1074.333333  ...                 1091.183333\n",
              "Alaska      2055.000000  ...                 1644.420000\n",
              "Arizona     4016.000000  ...                 1164.912500\n",
              "Arkansas    5081.500000  ...                  986.997500\n",
              "California  6063.764706  ...                 2044.105882\n",
              "\n",
              "[5 rows x 9 columns]"
            ]
          },
          "metadata": {
            "tags": []
          },
          "execution_count": 54
        }
      ]
    },
    {
      "cell_type": "code",
      "metadata": {
        "colab": {
          "base_uri": "https://localhost:8080/",
          "height": 531
        },
        "id": "MNaIT2MjYk0x",
        "outputId": "b1030c37-2d82-4aac-9c7e-a86c5392fa71"
      },
      "source": [
        "ax = dataset_estad.plot.bar( y='NumberOfHospitals', rot=90, figsize=(15,7))"
      ],
      "execution_count": null,
      "outputs": [
        {
          "output_type": "display_data",
          "data": {
            "image/png": "[encoded data removed]",
            "text/plain": [
              "<Figure size 1080x504 with 1 Axes>"
            ]
          },
          "metadata": {
            "tags": [],
            "needs_background": "light"
          }
        }
      ]
    },
    {
      "cell_type": "code",
      "metadata": {
        "colab": {
          "base_uri": "https://localhost:8080/",
          "height": 531
        },
        "id": "Lz2W3r87c-01",
        "outputId": "8fa89170-db21-459c-d70e-e244fa7f9e4d"
      },
      "source": [
        "ax = dataset_estad.plot.bar( y='NumberOfSchools', rot=90, figsize=(15,7))"
      ],
      "execution_count": null,
      "outputs": [
        {
          "output_type": "display_data",
          "data": {
            "image/png": "[encoded data removed]",
            "text/plain": [
              "<Figure size 1080x504 with 1 Axes>"
            ]
          },
          "metadata": {
            "tags": [],
            "needs_background": "light"
          }
        }
      ]
    },
    {
      "cell_type": "code",
      "metadata": {
        "colab": {
          "base_uri": "https://localhost:8080/",
          "height": 531
        },
        "id": "zzRMJi3sdRZU",
        "outputId": "64ada2e9-f72d-4297-a174-8af91004e99c"
      },
      "source": [
        "ax = dataset_estad.plot.bar( y='UnemploymentRate', rot=90, figsize=(15,7))"
      ],
      "execution_count": null,
      "outputs": [
        {
          "output_type": "display_data",
          "data": {
            "image/png": "[encoded data removed]",
            "text/plain": [
              "<Figure size 1080x504 with 1 Axes>"
            ]
          },
          "metadata": {
            "tags": [],
            "needs_background": "light"
          }
        }
      ]
    },
    {
      "cell_type": "code",
      "metadata": {
        "colab": {
          "base_uri": "https://localhost:8080/",
          "height": 531
        },
        "id": "5ciAOeLOerAt",
        "outputId": "0041757f-bb79-4115-90cb-d17212cfe375"
      },
      "source": [
        "ax = dataset_estad.plot.bar( y='crime_rate_per_100000', rot=90, figsize=(15,7))"
      ],
      "execution_count": null,
      "outputs": [
        {
          "output_type": "display_data",
          "data": {
            "image/png": "[encoded data removed]",
            "text/plain": [
              "<Figure size 1080x504 with 1 Axes>"
            ]
          },
          "metadata": {
            "tags": [],
            "needs_background": "light"
          }
        }
      ]
    },
    {
      "cell_type": "code",
      "metadata": {
        "colab": {
          "base_uri": "https://localhost:8080/",
          "height": 531
        },
        "id": "841PcvFJe-cq",
        "outputId": "4d0abfc4-3d72-4a92-e945-1c2a65ce1636"
      },
      "source": [
        "ax = dataset_estad.plot.bar( y='AverageHousePrice', rot=90, figsize=(15,7))"
      ],
      "execution_count": null,
      "outputs": [
        {
          "output_type": "display_data",
          "data": {
            "image/png": "[encoded data removed]",
            "text/plain": [
              "<Figure size 1080x504 with 1 Axes>"
            ]
          },
          "metadata": {
            "tags": [],
            "needs_background": "light"
          }
        }
      ]
    },
    {
      "cell_type": "code",
      "metadata": {
        "colab": {
          "base_uri": "https://localhost:8080/",
          "height": 531
        },
        "id": "leJGl_6TjikG",
        "outputId": "406264e0-adb3-42bd-bd3e-441b4cb9a84e"
      },
      "source": [
        "ax = dataset_estad.plot.bar( y='MedianRentalPrice_AllHomes', rot=90, figsize=(15,7))"
      ],
      "execution_count": null,
      "outputs": [
        {
          "output_type": "display_data",
          "data": {
            "image/png": "[encoded data removed]",
            "text/plain": [
              "<Figure size 1080x504 with 1 Axes>"
            ]
          },
          "metadata": {
            "tags": [],
            "needs_background": "light"
          }
        }
      ]
    },
    {
      "cell_type": "code",
      "metadata": {
        "id": "GE5EOzHKnMuF"
      },
      "source": [
        "dataset_estad_map= dataset_estad.reset_index()"
      ],
      "execution_count": null,
      "outputs": []
    },
    {
      "cell_type": "code",
      "metadata": {
        "id": "QIhlWDFtskxP"
      },
      "source": [
        "us_state_abbrev = {\n",
        "    'Alabama': 'AL',\n",
        "    'Alaska': 'AK',\n",
        "    'American Samoa': 'AS',\n",
        "    'Arizona': 'AZ',\n",
        "    'Arkansas': 'AR',\n",
        "    'California': 'CA',\n",
        "    'Colorado': 'CO',\n",
        "    'Connecticut': 'CT',\n",
        "    'Delaware': 'DE',\n",
        "    'District of Columbia': 'DC',\n",
        "    'Florida': 'FL',\n",
        "    'Georgia': 'GA',\n",
        "    'Guam': 'GU',\n",
        "    'Hawaii': 'HI',\n",
        "    'Idaho': 'ID',\n",
        "    'Illinois': 'IL',\n",
        "    'Indiana': 'IN',\n",
        "    'Iowa': 'IA',\n",
        "    'Kansas': 'KS',\n",
        "    'Kentucky': 'KY',\n",
        "    'Louisiana': 'LA',\n",
        "    'Maine': 'ME',\n",
        "    'Maryland': 'MD',\n",
        "    'Massachusetts': 'MA',\n",
        "    'Michigan': 'MI',\n",
        "    'Minnesota': 'MN',\n",
        "    'Mississippi': 'MS',\n",
        "    'Missouri': 'MO',\n",
        "    'Montana': 'MT',\n",
        "    'Nebraska': 'NE',\n",
        "    'Nevada': 'NV',\n",
        "    'New Hampshire': 'NH',\n",
        "    'New Jersey': 'NJ',\n",
        "    'New Mexico': 'NM',\n",
        "    'New York': 'NY',\n",
        "    'North Carolina': 'NC',\n",
        "    'North Dakota': 'ND',\n",
        "    'Northern Mariana Islands':'MP',\n",
        "    'Ohio': 'OH',\n",
        "    'Oklahoma': 'OK',\n",
        "    'Oregon': 'OR',\n",
        "    'Pennsylvania': 'PA',\n",
        "    'Puerto Rico': 'PR',\n",
        "    'Rhode Island': 'RI',\n",
        "    'South Carolina': 'SC',\n",
        "    'South Dakota': 'SD',\n",
        "    'Tennessee': 'TN',\n",
        "    'Texas': 'TX',\n",
        "    'Utah': 'UT',\n",
        "    'Vermont': 'VT',\n",
        "    'Virgin Islands': 'VI',\n",
        "    'Virginia': 'VA',\n",
        "    'Washington': 'WA',\n",
        "    'West Virginia': 'WV',\n",
        "    'Wisconsin': 'WI',\n",
        "    'Wyoming': 'WY'\n",
        "}"
      ],
      "execution_count": null,
      "outputs": []
    },
    {
      "cell_type": "code",
      "metadata": {
        "id": "m7w0RUqqsfQd"
      },
      "source": [
        "dataset_estad_map['abbrev'] = dataset_estad_map['StateName'].map(us_state_abbrev)"
      ],
      "execution_count": null,
      "outputs": []
    },
    {
      "cell_type": "code",
      "metadata": {
        "colab": {
          "base_uri": "https://localhost:8080/",
          "height": 218
        },
        "id": "2dBkUGJPtDBF",
        "outputId": "bd029571-8bf1-49fd-b938-5eb3e7fe7134"
      },
      "source": [
        "dataset_estad_map.head()"
      ],
      "execution_count": null,
      "outputs": [
        {
          "output_type": "execute_result",
          "data": {
            "text/html": [
              "<div>\n",
              "<style scoped>\n",
              "    .dataframe tbody tr th:only-of-type {\n",
              "        vertical-align: middle;\n",
              "    }\n",
              "\n",
              "    .dataframe tbody tr th {\n",
              "        vertical-align: top;\n",
              "    }\n",
              "\n",
              "    .dataframe thead th {\n",
              "        text-align: right;\n",
              "    }\n",
              "</style>\n",
              "<table border=\"1\" class=\"dataframe\">\n",
              "  <thead>\n",
              "    <tr style=\"text-align: right;\">\n",
              "      <th></th>\n",
              "      <th>StateName</th>\n",
              "      <th>FIPS</th>\n",
              "      <th>NumberOfSchools</th>\n",
              "      <th>NumberOfHospitals</th>\n",
              "      <th>AverageHospitalRating</th>\n",
              "      <th>UnemploymentRate</th>\n",
              "      <th>crime_rate_per_100000</th>\n",
              "      <th>AverageHousePrice</th>\n",
              "      <th>ZHVIPerSqft_AllHomes</th>\n",
              "      <th>MedianRentalPrice_AllHomes</th>\n",
              "      <th>abbrev</th>\n",
              "    </tr>\n",
              "  </thead>\n",
              "  <tbody>\n",
              "    <tr>\n",
              "      <th>0</th>\n",
              "      <td>Alabama</td>\n",
              "      <td>1074.333333</td>\n",
              "      <td>64.111111</td>\n",
              "      <td>4.222222</td>\n",
              "      <td>3.248889</td>\n",
              "      <td>3.755556</td>\n",
              "      <td>367.623005</td>\n",
              "      <td>126389.502222</td>\n",
              "      <td>77.595556</td>\n",
              "      <td>1091.183333</td>\n",
              "      <td>AL</td>\n",
              "    </tr>\n",
              "    <tr>\n",
              "      <th>1</th>\n",
              "      <td>Alaska</td>\n",
              "      <td>2055.000000</td>\n",
              "      <td>68.500000</td>\n",
              "      <td>6.000000</td>\n",
              "      <td>3.000000</td>\n",
              "      <td>5.800000</td>\n",
              "      <td>503.463649</td>\n",
              "      <td>224431.545000</td>\n",
              "      <td>141.545000</td>\n",
              "      <td>1644.420000</td>\n",
              "      <td>AK</td>\n",
              "    </tr>\n",
              "    <tr>\n",
              "      <th>2</th>\n",
              "      <td>Arizona</td>\n",
              "      <td>4016.000000</td>\n",
              "      <td>272.875000</td>\n",
              "      <td>15.500000</td>\n",
              "      <td>2.537500</td>\n",
              "      <td>6.425000</td>\n",
              "      <td>357.172732</td>\n",
              "      <td>162983.865000</td>\n",
              "      <td>99.871250</td>\n",
              "      <td>1164.912500</td>\n",
              "      <td>AZ</td>\n",
              "    </tr>\n",
              "    <tr>\n",
              "      <th>3</th>\n",
              "      <td>Arkansas</td>\n",
              "      <td>5081.500000</td>\n",
              "      <td>54.500000</td>\n",
              "      <td>7.500000</td>\n",
              "      <td>2.833750</td>\n",
              "      <td>3.225000</td>\n",
              "      <td>443.758312</td>\n",
              "      <td>110337.643750</td>\n",
              "      <td>68.406250</td>\n",
              "      <td>986.997500</td>\n",
              "      <td>AR</td>\n",
              "    </tr>\n",
              "    <tr>\n",
              "      <th>4</th>\n",
              "      <td>California</td>\n",
              "      <td>6063.764706</td>\n",
              "      <td>279.588235</td>\n",
              "      <td>15.470588</td>\n",
              "      <td>2.891176</td>\n",
              "      <td>4.464706</td>\n",
              "      <td>416.132304</td>\n",
              "      <td>347019.674412</td>\n",
              "      <td>224.356471</td>\n",
              "      <td>2044.105882</td>\n",
              "      <td>CA</td>\n",
              "    </tr>\n",
              "  </tbody>\n",
              "</table>\n",
              "</div>"
            ],
            "text/plain": [
              "    StateName         FIPS  ...  MedianRentalPrice_AllHomes  abbrev\n",
              "0     Alabama  1074.333333  ...                 1091.183333      AL\n",
              "1      Alaska  2055.000000  ...                 1644.420000      AK\n",
              "2     Arizona  4016.000000  ...                 1164.912500      AZ\n",
              "3    Arkansas  5081.500000  ...                  986.997500      AR\n",
              "4  California  6063.764706  ...                 2044.105882      CA\n",
              "\n",
              "[5 rows x 11 columns]"
            ]
          },
          "metadata": {
            "tags": []
          },
          "execution_count": 64
        }
      ]
    },
    {
      "cell_type": "code",
      "metadata": {
        "colab": {
          "base_uri": "https://localhost:8080/",
          "height": 542
        },
        "id": "EH1b9skDn96M",
        "outputId": "2bd1fede-479f-4103-ef66-ffa70e777dd5"
      },
      "source": [
        "import plotly.express as px  # Be sure to import express\n",
        "fig = px.choropleth(dataset_estad_map,  # Input Pandas DataFrame\n",
        "                    locations=\"abbrev\",  # DataFrame column with locations\n",
        "                    color=\"ZHVIPerSqft_AllHomes\",  # DataFrame column with color values\n",
        "                     # DataFrame column hover info\n",
        "                    locationmode = 'USA-states') # Set to plot as US States\n",
        "fig.update_layout(\n",
        "    title_text = 'Valor promedio por pie cuadrado de las casas en USA', # Create a Title\n",
        "    geo_scope='usa',  # Plot only the USA instead of globe\n",
        ")\n",
        "fig.show()"
      ],
      "execution_count": null,
      "outputs": [
        {
          "output_type": "display_data",
          "data": {
            "text/html": [
              "<html>\n",
              "<head><meta charset=\"utf-8\" /></head>\n",
              "<body>\n",
              "    <div>\n",
              "            <script src=\"https://cdnjs.cloudflare.com/ajax/libs/mathjax/2.7.5/MathJax.js?config=TeX-AMS-MML_SVG\"></script><script type=\"text/javascript\">if (window.MathJax) {MathJax.Hub.Config({SVG: {font: \"STIX-Web\"}});}</script>\n",
              "                <script type=\"text/javascript\">window.PlotlyConfig = {MathJaxConfig: 'local'};</script>\n",
              "        <script src=\"https://cdn.plot.ly/plotly-latest.min.js\"></script>    \n",
              "            <div id=\"a175babf-2027-4332-a644-cbee06b59195\" class=\"plotly-graph-div\" style=\"height:525px; width:100%;\"></div>\n",
              "            <script type=\"text/javascript\">\n",
              "                \n",
              "                    window.PLOTLYENV=window.PLOTLYENV || {};\n",
              "                    \n",
              "                if (document.getElementById(\"a175babf-2027-4332-a644-cbee06b59195\")) {\n",
              "                    Plotly.newPlot(\n",
              "                        'a175babf-2027-4332-a644-cbee06b59195',\n",
              "                        [{\"coloraxis\": \"coloraxis\", \"geo\": \"geo\", \"hoverlabel\": {\"namelength\": 0}, \"hovertemplate\": \"abbrev=%{location}<br>ZHVIPerSqft_AllHomes=%{z}\", \"locationmode\": \"USA-states\", \"locations\": [\"AL\", \"AK\", \"AZ\", \"AR\", \"CA\", \"CO\", \"CT\", \"DE\", \"DC\", \"FL\", \"GA\", \"HI\", \"ID\", \"IL\", \"IN\", \"IA\", \"KS\", \"KY\", \"LA\", \"ME\", \"MD\", \"MA\", \"MI\", \"MN\", \"MS\", \"MO\", \"MT\", \"NE\", \"NV\", \"NH\", \"NJ\", \"NM\", \"NY\", \"NC\", \"ND\", \"OH\", \"OK\", \"OR\", \"PA\", \"RI\", \"SC\", \"SD\", \"TN\", \"TX\", \"UT\", \"VA\", \"WA\", \"WV\", \"WI\", \"WY\"], \"name\": \"\", \"type\": \"choropleth\", \"z\": [77.59555555555556, 141.54500000000002, 99.87125, 68.40625, 224.35647058823525, 136.47833333333332, 142.22875, 109.69, 326.63, 102.53083333333333, 74.04999999999998, 286.08666666666664, 95.882, 96.659375, 76.24000000000001, 99.72124999999998, 88.56222222222222, 81.81375, 89.25333333333333, 140.14, 137.71266666666668, 181.61399999999998, 84.801, 142.85099999999997, 80.3, 89.13625, 118.00999999999999, 89.685, 120.745, 121.05, 149.30649999999997, 113.9025, 184.07099999999997, 86.56428571428572, 133.07, 84.18888888888888, 68.79444444444445, 125.33499999999998, 89.14652173913043, 162.69, 78.80333333333334, 99.17, 76.738125, 74.24375, 119.12714285714286, 123.99925925925928, 133.44833333333335, 80.228, 106.84666666666665, 124.74000000000001]}],\n",
              "                        {\"coloraxis\": {\"colorbar\": {\"title\": {\"text\": \"ZHVIPerSqft_AllHomes\"}}, \"colorscale\": [[0.0, \"#0d0887\"], [0.1111111111111111, \"#46039f\"], [0.2222222222222222, \"#7201a8\"], [0.3333333333333333, \"#9c179e\"], [0.4444444444444444, \"#bd3786\"], [0.5555555555555556, \"#d8576b\"], [0.6666666666666666, \"#ed7953\"], [0.7777777777777778, \"#fb9f3a\"], [0.8888888888888888, \"#fdca26\"], [1.0, \"#f0f921\"]]}, \"geo\": {\"center\": {}, \"domain\": {\"x\": [0.0, 1.0], \"y\": [0.0, 1.0]}, \"scope\": \"usa\"}, \"legend\": {\"tracegroupgap\": 0}, \"margin\": {\"t\": 60}, \"template\": {\"data\": {\"bar\": [{\"error_x\": {\"color\": \"#2a3f5f\"}, \"error_y\": {\"color\": \"#2a3f5f\"}, \"marker\": {\"line\": {\"color\": \"#E5ECF6\", \"width\": 0.5}}, \"type\": \"bar\"}], \"barpolar\": [{\"marker\": {\"line\": {\"color\": \"#E5ECF6\", \"width\": 0.5}}, \"type\": \"barpolar\"}], \"carpet\": [{\"aaxis\": {\"endlinecolor\": \"#2a3f5f\", \"gridcolor\": \"white\", \"linecolor\": \"white\", \"minorgridcolor\": \"white\", \"startlinecolor\": \"#2a3f5f\"}, \"baxis\": {\"endlinecolor\": \"#2a3f5f\", \"gridcolor\": \"white\", \"linecolor\": \"white\", \"minorgridcolor\": \"white\", \"startlinecolor\": \"#2a3f5f\"}, \"type\": \"carpet\"}], \"choropleth\": [{\"colorbar\": {\"outlinewidth\": 0, \"ticks\": \"\"}, \"type\": \"choropleth\"}], \"contour\": [{\"colorbar\": {\"outlinewidth\": 0, \"ticks\": \"\"}, \"colorscale\": [[0.0, \"#0d0887\"], [0.1111111111111111, \"#46039f\"], [0.2222222222222222, \"#7201a8\"], [0.3333333333333333, \"#9c179e\"], [0.4444444444444444, \"#bd3786\"], [0.5555555555555556, \"#d8576b\"], [0.6666666666666666, \"#ed7953\"], [0.7777777777777778, \"#fb9f3a\"], [0.8888888888888888, \"#fdca26\"], [1.0, \"#f0f921\"]], \"type\": \"contour\"}], \"contourcarpet\": [{\"colorbar\": {\"outlinewidth\": 0, \"ticks\": \"\"}, \"type\": \"contourcarpet\"}], \"heatmap\": [{\"colorbar\": {\"outlinewidth\": 0, \"ticks\": \"\"}, \"colorscale\": [[0.0, \"#0d0887\"], [0.1111111111111111, \"#46039f\"], [0.2222222222222222, \"#7201a8\"], [0.3333333333333333, \"#9c179e\"], [0.4444444444444444, \"#bd3786\"], [0.5555555555555556, \"#d8576b\"], [0.6666666666666666, \"#ed7953\"], [0.7777777777777778, \"#fb9f3a\"], [0.8888888888888888, \"#fdca26\"], [1.0, \"#f0f921\"]], \"type\": \"heatmap\"}], \"heatmapgl\": [{\"colorbar\": {\"outlinewidth\": 0, \"ticks\": \"\"}, \"colorscale\": [[0.0, \"#0d0887\"], [0.1111111111111111, \"#46039f\"], [0.2222222222222222, \"#7201a8\"], [0.3333333333333333, \"#9c179e\"], [0.4444444444444444, \"#bd3786\"], [0.5555555555555556, \"#d8576b\"], [0.6666666666666666, \"#ed7953\"], [0.7777777777777778, \"#fb9f3a\"], [0.8888888888888888, \"#fdca26\"], [1.0, \"#f0f921\"]], \"type\": \"heatmapgl\"}], \"histogram\": [{\"marker\": {\"colorbar\": {\"outlinewidth\": 0, \"ticks\": \"\"}}, \"type\": \"histogram\"}], \"histogram2d\": [{\"colorbar\": {\"outlinewidth\": 0, \"ticks\": \"\"}, \"colorscale\": [[0.0, \"#0d0887\"], [0.1111111111111111, \"#46039f\"], [0.2222222222222222, \"#7201a8\"], [0.3333333333333333, \"#9c179e\"], [0.4444444444444444, \"#bd3786\"], [0.5555555555555556, \"#d8576b\"], [0.6666666666666666, \"#ed7953\"], [0.7777777777777778, \"#fb9f3a\"], [0.8888888888888888, \"#fdca26\"], [1.0, \"#f0f921\"]], \"type\": \"histogram2d\"}], \"histogram2dcontour\": [{\"colorbar\": {\"outlinewidth\": 0, \"ticks\": \"\"}, \"colorscale\": [[0.0, \"#0d0887\"], [0.1111111111111111, \"#46039f\"], [0.2222222222222222, \"#7201a8\"], [0.3333333333333333, \"#9c179e\"], [0.4444444444444444, \"#bd3786\"], [0.5555555555555556, \"#d8576b\"], [0.6666666666666666, \"#ed7953\"], [0.7777777777777778, \"#fb9f3a\"], [0.8888888888888888, \"#fdca26\"], [1.0, \"#f0f921\"]], \"type\": \"histogram2dcontour\"}], \"mesh3d\": [{\"colorbar\": {\"outlinewidth\": 0, \"ticks\": \"\"}, \"type\": \"mesh3d\"}], \"parcoords\": [{\"line\": {\"colorbar\": {\"outlinewidth\": 0, \"ticks\": \"\"}}, \"type\": \"parcoords\"}], \"pie\": [{\"automargin\": true, \"type\": \"pie\"}], \"scatter\": [{\"marker\": {\"colorbar\": {\"outlinewidth\": 0, \"ticks\": \"\"}}, \"type\": \"scatter\"}], \"scatter3d\": [{\"line\": {\"colorbar\": {\"outlinewidth\": 0, \"ticks\": \"\"}}, \"marker\": {\"colorbar\": {\"outlinewidth\": 0, \"ticks\": \"\"}}, \"type\": \"scatter3d\"}], \"scattercarpet\": [{\"marker\": {\"colorbar\": {\"outlinewidth\": 0, \"ticks\": \"\"}}, \"type\": \"scattercarpet\"}], \"scattergeo\": [{\"marker\": {\"colorbar\": {\"outlinewidth\": 0, \"ticks\": \"\"}}, \"type\": \"scattergeo\"}], \"scattergl\": [{\"marker\": {\"colorbar\": {\"outlinewidth\": 0, \"ticks\": \"\"}}, \"type\": \"scattergl\"}], \"scattermapbox\": [{\"marker\": {\"colorbar\": {\"outlinewidth\": 0, \"ticks\": \"\"}}, \"type\": \"scattermapbox\"}], \"scatterpolar\": [{\"marker\": {\"colorbar\": {\"outlinewidth\": 0, \"ticks\": \"\"}}, \"type\": \"scatterpolar\"}], \"scatterpolargl\": [{\"marker\": {\"colorbar\": {\"outlinewidth\": 0, \"ticks\": \"\"}}, \"type\": \"scatterpolargl\"}], \"scatterternary\": [{\"marker\": {\"colorbar\": {\"outlinewidth\": 0, \"ticks\": \"\"}}, \"type\": \"scatterternary\"}], \"surface\": [{\"colorbar\": {\"outlinewidth\": 0, \"ticks\": \"\"}, \"colorscale\": [[0.0, \"#0d0887\"], [0.1111111111111111, \"#46039f\"], [0.2222222222222222, \"#7201a8\"], [0.3333333333333333, \"#9c179e\"], [0.4444444444444444, \"#bd3786\"], [0.5555555555555556, \"#d8576b\"], [0.6666666666666666, \"#ed7953\"], [0.7777777777777778, \"#fb9f3a\"], [0.8888888888888888, \"#fdca26\"], [1.0, \"#f0f921\"]], \"type\": \"surface\"}], \"table\": [{\"cells\": {\"fill\": {\"color\": \"#EBF0F8\"}, \"line\": {\"color\": \"white\"}}, \"header\": {\"fill\": {\"color\": \"#C8D4E3\"}, \"line\": {\"color\": \"white\"}}, \"type\": \"table\"}]}, \"layout\": {\"annotationdefaults\": {\"arrowcolor\": \"#2a3f5f\", \"arrowhead\": 0, \"arrowwidth\": 1}, \"coloraxis\": {\"colorbar\": {\"outlinewidth\": 0, \"ticks\": \"\"}}, \"colorscale\": {\"diverging\": [[0, \"#8e0152\"], [0.1, \"#c51b7d\"], [0.2, \"#de77ae\"], [0.3, \"#f1b6da\"], [0.4, \"#fde0ef\"], [0.5, \"#f7f7f7\"], [0.6, \"#e6f5d0\"], [0.7, \"#b8e186\"], [0.8, \"#7fbc41\"], [0.9, \"#4d9221\"], [1, \"#276419\"]], \"sequential\": [[0.0, \"#0d0887\"], [0.1111111111111111, \"#46039f\"], [0.2222222222222222, \"#7201a8\"], [0.3333333333333333, \"#9c179e\"], [0.4444444444444444, \"#bd3786\"], [0.5555555555555556, \"#d8576b\"], [0.6666666666666666, \"#ed7953\"], [0.7777777777777778, \"#fb9f3a\"], [0.8888888888888888, \"#fdca26\"], [1.0, \"#f0f921\"]], \"sequentialminus\": [[0.0, \"#0d0887\"], [0.1111111111111111, \"#46039f\"], [0.2222222222222222, \"#7201a8\"], [0.3333333333333333, \"#9c179e\"], [0.4444444444444444, \"#bd3786\"], [0.5555555555555556, \"#d8576b\"], [0.6666666666666666, \"#ed7953\"], [0.7777777777777778, \"#fb9f3a\"], [0.8888888888888888, \"#fdca26\"], [1.0, \"#f0f921\"]]}, \"colorway\": [\"#636efa\", \"#EF553B\", \"#00cc96\", \"#ab63fa\", \"#FFA15A\", \"#19d3f3\", \"#FF6692\", \"#B6E880\", \"#FF97FF\", \"#FECB52\"], \"font\": {\"color\": \"#2a3f5f\"}, \"geo\": {\"bgcolor\": \"white\", \"lakecolor\": \"white\", \"landcolor\": \"#E5ECF6\", \"showlakes\": true, \"showland\": true, \"subunitcolor\": \"white\"}, \"hoverlabel\": {\"align\": \"left\"}, \"hovermode\": \"closest\", \"mapbox\": {\"style\": \"light\"}, \"paper_bgcolor\": \"white\", \"plot_bgcolor\": \"#E5ECF6\", \"polar\": {\"angularaxis\": {\"gridcolor\": \"white\", \"linecolor\": \"white\", \"ticks\": \"\"}, \"bgcolor\": \"#E5ECF6\", \"radialaxis\": {\"gridcolor\": \"white\", \"linecolor\": \"white\", \"ticks\": \"\"}}, \"scene\": {\"xaxis\": {\"backgroundcolor\": \"#E5ECF6\", \"gridcolor\": \"white\", \"gridwidth\": 2, \"linecolor\": \"white\", \"showbackground\": true, \"ticks\": \"\", \"zerolinecolor\": \"white\"}, \"yaxis\": {\"backgroundcolor\": \"#E5ECF6\", \"gridcolor\": \"white\", \"gridwidth\": 2, \"linecolor\": \"white\", \"showbackground\": true, \"ticks\": \"\", \"zerolinecolor\": \"white\"}, \"zaxis\": {\"backgroundcolor\": \"#E5ECF6\", \"gridcolor\": \"white\", \"gridwidth\": 2, \"linecolor\": \"white\", \"showbackground\": true, \"ticks\": \"\", \"zerolinecolor\": \"white\"}}, \"shapedefaults\": {\"line\": {\"color\": \"#2a3f5f\"}}, \"ternary\": {\"aaxis\": {\"gridcolor\": \"white\", \"linecolor\": \"white\", \"ticks\": \"\"}, \"baxis\": {\"gridcolor\": \"white\", \"linecolor\": \"white\", \"ticks\": \"\"}, \"bgcolor\": \"#E5ECF6\", \"caxis\": {\"gridcolor\": \"white\", \"linecolor\": \"white\", \"ticks\": \"\"}}, \"title\": {\"x\": 0.05}, \"xaxis\": {\"automargin\": true, \"gridcolor\": \"white\", \"linecolor\": \"white\", \"ticks\": \"\", \"title\": {\"standoff\": 15}, \"zerolinecolor\": \"white\", \"zerolinewidth\": 2}, \"yaxis\": {\"automargin\": true, \"gridcolor\": \"white\", \"linecolor\": \"white\", \"ticks\": \"\", \"title\": {\"standoff\": 15}, \"zerolinecolor\": \"white\", \"zerolinewidth\": 2}}}, \"title\": {\"text\": \"Valor promedio por pie cuadrado de las casas en USA\"}},\n",
              "                        {\"responsive\": true}\n",
              "                    ).then(function(){\n",
              "                            \n",
              "var gd = document.getElementById('a175babf-2027-4332-a644-cbee06b59195');\n",
              "var x = new MutationObserver(function (mutations, observer) {{\n",
              "        var display = window.getComputedStyle(gd).display;\n",
              "        if (!display || display === 'none') {{\n",
              "            console.log([gd, 'removed!']);\n",
              "            Plotly.purge(gd);\n",
              "            observer.disconnect();\n",
              "        }}\n",
              "}});\n",
              "\n",
              "// Listen for the removal of the full notebook cells\n",
              "var notebookContainer = gd.closest('#notebook-container');\n",
              "if (notebookContainer) {{\n",
              "    x.observe(notebookContainer, {childList: true});\n",
              "}}\n",
              "\n",
              "// Listen for the clearing of the current output cell\n",
              "var outputEl = gd.closest('.output');\n",
              "if (outputEl) {{\n",
              "    x.observe(outputEl, {childList: true});\n",
              "}}\n",
              "\n",
              "                        })\n",
              "                };\n",
              "                \n",
              "            </script>\n",
              "        </div>\n",
              "</body>\n",
              "</html>"
            ]
          },
          "metadata": {
            "tags": []
          }
        }
      ]
    },
    {
      "cell_type": "code",
      "metadata": {
        "colab": {
          "base_uri": "https://localhost:8080/",
          "height": 334
        },
        "id": "0-7rFNkmqJ9O",
        "outputId": "278b9462-9348-4e20-a66c-3e608304e70c"
      },
      "source": [
        "df = pd.read_csv('/content/State_time_series.csv')\n",
        "df.Date = pd.to_datetime(df.Date)\n",
        "df.head()"
      ],
      "execution_count": null,
      "outputs": [
        {
          "output_type": "execute_result",
          "data": {
            "text/html": [
              "<div>\n",
              "<style scoped>\n",
              "    .dataframe tbody tr th:only-of-type {\n",
              "        vertical-align: middle;\n",
              "    }\n",
              "\n",
              "    .dataframe tbody tr th {\n",
              "        vertical-align: top;\n",
              "    }\n",
              "\n",
              "    .dataframe thead th {\n",
              "        text-align: right;\n",
              "    }\n",
              "</style>\n",
              "<table border=\"1\" class=\"dataframe\">\n",
              "  <thead>\n",
              "    <tr style=\"text-align: right;\">\n",
              "      <th></th>\n",
              "      <th>Date</th>\n",
              "      <th>RegionName</th>\n",
              "      <th>DaysOnZillow_AllHomes</th>\n",
              "      <th>InventorySeasonallyAdjusted_AllHomes</th>\n",
              "      <th>InventoryRaw_AllHomes</th>\n",
              "      <th>MedianListingPricePerSqft_1Bedroom</th>\n",
              "      <th>MedianListingPricePerSqft_2Bedroom</th>\n",
              "      <th>MedianListingPricePerSqft_3Bedroom</th>\n",
              "      <th>MedianListingPricePerSqft_4Bedroom</th>\n",
              "      <th>MedianListingPricePerSqft_5BedroomOrMore</th>\n",
              "      <th>MedianListingPricePerSqft_AllHomes</th>\n",
              "      <th>MedianListingPricePerSqft_CondoCoop</th>\n",
              "      <th>MedianListingPricePerSqft_DuplexTriplex</th>\n",
              "      <th>MedianListingPricePerSqft_SingleFamilyResidence</th>\n",
              "      <th>MedianListingPrice_1Bedroom</th>\n",
              "      <th>MedianListingPrice_2Bedroom</th>\n",
              "      <th>MedianListingPrice_3Bedroom</th>\n",
              "      <th>MedianListingPrice_4Bedroom</th>\n",
              "      <th>MedianListingPrice_5BedroomOrMore</th>\n",
              "      <th>MedianListingPrice_AllHomes</th>\n",
              "      <th>MedianListingPrice_CondoCoop</th>\n",
              "      <th>MedianListingPrice_DuplexTriplex</th>\n",
              "      <th>MedianListingPrice_SingleFamilyResidence</th>\n",
              "      <th>MedianPctOfPriceReduction_AllHomes</th>\n",
              "      <th>MedianPctOfPriceReduction_CondoCoop</th>\n",
              "      <th>MedianPctOfPriceReduction_SingleFamilyResidence</th>\n",
              "      <th>MedianPriceCutDollar_AllHomes</th>\n",
              "      <th>MedianPriceCutDollar_CondoCoop</th>\n",
              "      <th>MedianPriceCutDollar_SingleFamilyResidence</th>\n",
              "      <th>MedianRentalPricePerSqft_1Bedroom</th>\n",
              "      <th>MedianRentalPricePerSqft_2Bedroom</th>\n",
              "      <th>MedianRentalPricePerSqft_3Bedroom</th>\n",
              "      <th>MedianRentalPricePerSqft_4Bedroom</th>\n",
              "      <th>MedianRentalPricePerSqft_5BedroomOrMore</th>\n",
              "      <th>MedianRentalPricePerSqft_AllHomes</th>\n",
              "      <th>MedianRentalPricePerSqft_CondoCoop</th>\n",
              "      <th>MedianRentalPricePerSqft_DuplexTriplex</th>\n",
              "      <th>MedianRentalPricePerSqft_MultiFamilyResidence5PlusUnits</th>\n",
              "      <th>MedianRentalPricePerSqft_SingleFamilyResidence</th>\n",
              "      <th>MedianRentalPricePerSqft_Studio</th>\n",
              "      <th>...</th>\n",
              "      <th>MedianRentalPrice_3Bedroom</th>\n",
              "      <th>MedianRentalPrice_4Bedroom</th>\n",
              "      <th>MedianRentalPrice_5BedroomOrMore</th>\n",
              "      <th>MedianRentalPrice_AllHomes</th>\n",
              "      <th>MedianRentalPrice_CondoCoop</th>\n",
              "      <th>MedianRentalPrice_DuplexTriplex</th>\n",
              "      <th>MedianRentalPrice_MultiFamilyResidence5PlusUnits</th>\n",
              "      <th>MedianRentalPrice_SingleFamilyResidence</th>\n",
              "      <th>MedianRentalPrice_Studio</th>\n",
              "      <th>ZHVIPerSqft_AllHomes</th>\n",
              "      <th>PctOfHomesDecreasingInValues_AllHomes</th>\n",
              "      <th>PctOfHomesIncreasingInValues_AllHomes</th>\n",
              "      <th>PctOfHomesSellingForGain_AllHomes</th>\n",
              "      <th>PctOfHomesSellingForLoss_AllHomes</th>\n",
              "      <th>PctOfListingsWithPriceReductionsSeasAdj_AllHomes</th>\n",
              "      <th>PctOfListingsWithPriceReductionsSeasAdj_CondoCoop</th>\n",
              "      <th>PctOfListingsWithPriceReductionsSeasAdj_SingleFamilyResidence</th>\n",
              "      <th>PctOfListingsWithPriceReductions_AllHomes</th>\n",
              "      <th>PctOfListingsWithPriceReductions_CondoCoop</th>\n",
              "      <th>PctOfListingsWithPriceReductions_SingleFamilyResidence</th>\n",
              "      <th>PriceToRentRatio_AllHomes</th>\n",
              "      <th>Sale_Counts</th>\n",
              "      <th>Sale_Counts_Seas_Adj</th>\n",
              "      <th>Sale_Prices</th>\n",
              "      <th>ZHVI_1bedroom</th>\n",
              "      <th>ZHVI_2bedroom</th>\n",
              "      <th>ZHVI_3bedroom</th>\n",
              "      <th>ZHVI_4bedroom</th>\n",
              "      <th>ZHVI_5BedroomOrMore</th>\n",
              "      <th>ZHVI_AllHomes</th>\n",
              "      <th>ZHVI_BottomTier</th>\n",
              "      <th>ZHVI_CondoCoop</th>\n",
              "      <th>ZHVI_MiddleTier</th>\n",
              "      <th>ZHVI_SingleFamilyResidence</th>\n",
              "      <th>ZHVI_TopTier</th>\n",
              "      <th>ZRI_AllHomes</th>\n",
              "      <th>ZRI_AllHomesPlusMultifamily</th>\n",
              "      <th>ZriPerSqft_AllHomes</th>\n",
              "      <th>Zri_MultiFamilyResidenceRental</th>\n",
              "      <th>Zri_SingleFamilyResidenceRental</th>\n",
              "    </tr>\n",
              "  </thead>\n",
              "  <tbody>\n",
              "    <tr>\n",
              "      <th>0</th>\n",
              "      <td>1996-04-30</td>\n",
              "      <td>Alabama</td>\n",
              "      <td>NaN</td>\n",
              "      <td>NaN</td>\n",
              "      <td>NaN</td>\n",
              "      <td>NaN</td>\n",
              "      <td>NaN</td>\n",
              "      <td>NaN</td>\n",
              "      <td>NaN</td>\n",
              "      <td>NaN</td>\n",
              "      <td>NaN</td>\n",
              "      <td>NaN</td>\n",
              "      <td>NaN</td>\n",
              "      <td>NaN</td>\n",
              "      <td>NaN</td>\n",
              "      <td>NaN</td>\n",
              "      <td>NaN</td>\n",
              "      <td>NaN</td>\n",
              "      <td>NaN</td>\n",
              "      <td>NaN</td>\n",
              "      <td>NaN</td>\n",
              "      <td>NaN</td>\n",
              "      <td>NaN</td>\n",
              "      <td>NaN</td>\n",
              "      <td>NaN</td>\n",
              "      <td>NaN</td>\n",
              "      <td>NaN</td>\n",
              "      <td>NaN</td>\n",
              "      <td>NaN</td>\n",
              "      <td>NaN</td>\n",
              "      <td>NaN</td>\n",
              "      <td>NaN</td>\n",
              "      <td>NaN</td>\n",
              "      <td>NaN</td>\n",
              "      <td>NaN</td>\n",
              "      <td>NaN</td>\n",
              "      <td>NaN</td>\n",
              "      <td>NaN</td>\n",
              "      <td>NaN</td>\n",
              "      <td>NaN</td>\n",
              "      <td>...</td>\n",
              "      <td>NaN</td>\n",
              "      <td>NaN</td>\n",
              "      <td>NaN</td>\n",
              "      <td>NaN</td>\n",
              "      <td>NaN</td>\n",
              "      <td>NaN</td>\n",
              "      <td>NaN</td>\n",
              "      <td>NaN</td>\n",
              "      <td>NaN</td>\n",
              "      <td>50.0</td>\n",
              "      <td>NaN</td>\n",
              "      <td>NaN</td>\n",
              "      <td>NaN</td>\n",
              "      <td>NaN</td>\n",
              "      <td>NaN</td>\n",
              "      <td>NaN</td>\n",
              "      <td>NaN</td>\n",
              "      <td>NaN</td>\n",
              "      <td>NaN</td>\n",
              "      <td>NaN</td>\n",
              "      <td>NaN</td>\n",
              "      <td>NaN</td>\n",
              "      <td>NaN</td>\n",
              "      <td>NaN</td>\n",
              "      <td>61500.0</td>\n",
              "      <td>48900.0</td>\n",
              "      <td>78200.0</td>\n",
              "      <td>146500.0</td>\n",
              "      <td>206300.0</td>\n",
              "      <td>79500.0</td>\n",
              "      <td>45600.0</td>\n",
              "      <td>99500.0</td>\n",
              "      <td>79500.0</td>\n",
              "      <td>79000.0</td>\n",
              "      <td>140200.0</td>\n",
              "      <td>NaN</td>\n",
              "      <td>NaN</td>\n",
              "      <td>NaN</td>\n",
              "      <td>NaN</td>\n",
              "      <td>NaN</td>\n",
              "    </tr>\n",
              "    <tr>\n",
              "      <th>1</th>\n",
              "      <td>1996-04-30</td>\n",
              "      <td>Arizona</td>\n",
              "      <td>NaN</td>\n",
              "      <td>NaN</td>\n",
              "      <td>NaN</td>\n",
              "      <td>NaN</td>\n",
              "      <td>NaN</td>\n",
              "      <td>NaN</td>\n",
              "      <td>NaN</td>\n",
              "      <td>NaN</td>\n",
              "      <td>NaN</td>\n",
              "      <td>NaN</td>\n",
              "      <td>NaN</td>\n",
              "      <td>NaN</td>\n",
              "      <td>NaN</td>\n",
              "      <td>NaN</td>\n",
              "      <td>NaN</td>\n",
              "      <td>NaN</td>\n",
              "      <td>NaN</td>\n",
              "      <td>NaN</td>\n",
              "      <td>NaN</td>\n",
              "      <td>NaN</td>\n",
              "      <td>NaN</td>\n",
              "      <td>NaN</td>\n",
              "      <td>NaN</td>\n",
              "      <td>NaN</td>\n",
              "      <td>NaN</td>\n",
              "      <td>NaN</td>\n",
              "      <td>NaN</td>\n",
              "      <td>NaN</td>\n",
              "      <td>NaN</td>\n",
              "      <td>NaN</td>\n",
              "      <td>NaN</td>\n",
              "      <td>NaN</td>\n",
              "      <td>NaN</td>\n",
              "      <td>NaN</td>\n",
              "      <td>NaN</td>\n",
              "      <td>NaN</td>\n",
              "      <td>NaN</td>\n",
              "      <td>NaN</td>\n",
              "      <td>...</td>\n",
              "      <td>NaN</td>\n",
              "      <td>NaN</td>\n",
              "      <td>NaN</td>\n",
              "      <td>NaN</td>\n",
              "      <td>NaN</td>\n",
              "      <td>NaN</td>\n",
              "      <td>NaN</td>\n",
              "      <td>NaN</td>\n",
              "      <td>NaN</td>\n",
              "      <td>62.0</td>\n",
              "      <td>NaN</td>\n",
              "      <td>NaN</td>\n",
              "      <td>NaN</td>\n",
              "      <td>NaN</td>\n",
              "      <td>NaN</td>\n",
              "      <td>NaN</td>\n",
              "      <td>NaN</td>\n",
              "      <td>NaN</td>\n",
              "      <td>NaN</td>\n",
              "      <td>NaN</td>\n",
              "      <td>NaN</td>\n",
              "      <td>NaN</td>\n",
              "      <td>NaN</td>\n",
              "      <td>NaN</td>\n",
              "      <td>59200.0</td>\n",
              "      <td>86400.0</td>\n",
              "      <td>96100.0</td>\n",
              "      <td>128400.0</td>\n",
              "      <td>190500.0</td>\n",
              "      <td>103600.0</td>\n",
              "      <td>67100.0</td>\n",
              "      <td>78900.0</td>\n",
              "      <td>103600.0</td>\n",
              "      <td>107500.0</td>\n",
              "      <td>168700.0</td>\n",
              "      <td>NaN</td>\n",
              "      <td>NaN</td>\n",
              "      <td>NaN</td>\n",
              "      <td>NaN</td>\n",
              "      <td>NaN</td>\n",
              "    </tr>\n",
              "    <tr>\n",
              "      <th>2</th>\n",
              "      <td>1996-04-30</td>\n",
              "      <td>Arkansas</td>\n",
              "      <td>NaN</td>\n",
              "      <td>NaN</td>\n",
              "      <td>NaN</td>\n",
              "      <td>NaN</td>\n",
              "      <td>NaN</td>\n",
              "      <td>NaN</td>\n",
              "      <td>NaN</td>\n",
              "      <td>NaN</td>\n",
              "      <td>NaN</td>\n",
              "      <td>NaN</td>\n",
              "      <td>NaN</td>\n",
              "      <td>NaN</td>\n",
              "      <td>NaN</td>\n",
              "      <td>NaN</td>\n",
              "      <td>NaN</td>\n",
              "      <td>NaN</td>\n",
              "      <td>NaN</td>\n",
              "      <td>NaN</td>\n",
              "      <td>NaN</td>\n",
              "      <td>NaN</td>\n",
              "      <td>NaN</td>\n",
              "      <td>NaN</td>\n",
              "      <td>NaN</td>\n",
              "      <td>NaN</td>\n",
              "      <td>NaN</td>\n",
              "      <td>NaN</td>\n",
              "      <td>NaN</td>\n",
              "      <td>NaN</td>\n",
              "      <td>NaN</td>\n",
              "      <td>NaN</td>\n",
              "      <td>NaN</td>\n",
              "      <td>NaN</td>\n",
              "      <td>NaN</td>\n",
              "      <td>NaN</td>\n",
              "      <td>NaN</td>\n",
              "      <td>NaN</td>\n",
              "      <td>NaN</td>\n",
              "      <td>NaN</td>\n",
              "      <td>...</td>\n",
              "      <td>NaN</td>\n",
              "      <td>NaN</td>\n",
              "      <td>NaN</td>\n",
              "      <td>NaN</td>\n",
              "      <td>NaN</td>\n",
              "      <td>NaN</td>\n",
              "      <td>NaN</td>\n",
              "      <td>NaN</td>\n",
              "      <td>NaN</td>\n",
              "      <td>42.0</td>\n",
              "      <td>NaN</td>\n",
              "      <td>NaN</td>\n",
              "      <td>NaN</td>\n",
              "      <td>NaN</td>\n",
              "      <td>NaN</td>\n",
              "      <td>NaN</td>\n",
              "      <td>NaN</td>\n",
              "      <td>NaN</td>\n",
              "      <td>NaN</td>\n",
              "      <td>NaN</td>\n",
              "      <td>NaN</td>\n",
              "      <td>NaN</td>\n",
              "      <td>NaN</td>\n",
              "      <td>NaN</td>\n",
              "      <td>53000.0</td>\n",
              "      <td>54500.0</td>\n",
              "      <td>76800.0</td>\n",
              "      <td>135100.0</td>\n",
              "      <td>186000.0</td>\n",
              "      <td>64400.0</td>\n",
              "      <td>38400.0</td>\n",
              "      <td>70300.0</td>\n",
              "      <td>64400.0</td>\n",
              "      <td>64500.0</td>\n",
              "      <td>115200.0</td>\n",
              "      <td>NaN</td>\n",
              "      <td>NaN</td>\n",
              "      <td>NaN</td>\n",
              "      <td>NaN</td>\n",
              "      <td>NaN</td>\n",
              "    </tr>\n",
              "    <tr>\n",
              "      <th>3</th>\n",
              "      <td>1996-04-30</td>\n",
              "      <td>California</td>\n",
              "      <td>NaN</td>\n",
              "      <td>NaN</td>\n",
              "      <td>NaN</td>\n",
              "      <td>NaN</td>\n",
              "      <td>NaN</td>\n",
              "      <td>NaN</td>\n",
              "      <td>NaN</td>\n",
              "      <td>NaN</td>\n",
              "      <td>NaN</td>\n",
              "      <td>NaN</td>\n",
              "      <td>NaN</td>\n",
              "      <td>NaN</td>\n",
              "      <td>NaN</td>\n",
              "      <td>NaN</td>\n",
              "      <td>NaN</td>\n",
              "      <td>NaN</td>\n",
              "      <td>NaN</td>\n",
              "      <td>NaN</td>\n",
              "      <td>NaN</td>\n",
              "      <td>NaN</td>\n",
              "      <td>NaN</td>\n",
              "      <td>NaN</td>\n",
              "      <td>NaN</td>\n",
              "      <td>NaN</td>\n",
              "      <td>NaN</td>\n",
              "      <td>NaN</td>\n",
              "      <td>NaN</td>\n",
              "      <td>NaN</td>\n",
              "      <td>NaN</td>\n",
              "      <td>NaN</td>\n",
              "      <td>NaN</td>\n",
              "      <td>NaN</td>\n",
              "      <td>NaN</td>\n",
              "      <td>NaN</td>\n",
              "      <td>NaN</td>\n",
              "      <td>NaN</td>\n",
              "      <td>NaN</td>\n",
              "      <td>NaN</td>\n",
              "      <td>...</td>\n",
              "      <td>NaN</td>\n",
              "      <td>NaN</td>\n",
              "      <td>NaN</td>\n",
              "      <td>NaN</td>\n",
              "      <td>NaN</td>\n",
              "      <td>NaN</td>\n",
              "      <td>NaN</td>\n",
              "      <td>NaN</td>\n",
              "      <td>NaN</td>\n",
              "      <td>102.0</td>\n",
              "      <td>NaN</td>\n",
              "      <td>NaN</td>\n",
              "      <td>NaN</td>\n",
              "      <td>NaN</td>\n",
              "      <td>NaN</td>\n",
              "      <td>NaN</td>\n",
              "      <td>NaN</td>\n",
              "      <td>NaN</td>\n",
              "      <td>NaN</td>\n",
              "      <td>NaN</td>\n",
              "      <td>NaN</td>\n",
              "      <td>NaN</td>\n",
              "      <td>NaN</td>\n",
              "      <td>NaN</td>\n",
              "      <td>93700.0</td>\n",
              "      <td>123400.0</td>\n",
              "      <td>150900.0</td>\n",
              "      <td>196100.0</td>\n",
              "      <td>265300.0</td>\n",
              "      <td>157900.0</td>\n",
              "      <td>95100.0</td>\n",
              "      <td>136100.0</td>\n",
              "      <td>157900.0</td>\n",
              "      <td>162000.0</td>\n",
              "      <td>270600.0</td>\n",
              "      <td>NaN</td>\n",
              "      <td>NaN</td>\n",
              "      <td>NaN</td>\n",
              "      <td>NaN</td>\n",
              "      <td>NaN</td>\n",
              "    </tr>\n",
              "    <tr>\n",
              "      <th>4</th>\n",
              "      <td>1996-04-30</td>\n",
              "      <td>Colorado</td>\n",
              "      <td>NaN</td>\n",
              "      <td>NaN</td>\n",
              "      <td>NaN</td>\n",
              "      <td>NaN</td>\n",
              "      <td>NaN</td>\n",
              "      <td>NaN</td>\n",
              "      <td>NaN</td>\n",
              "      <td>NaN</td>\n",
              "      <td>NaN</td>\n",
              "      <td>NaN</td>\n",
              "      <td>NaN</td>\n",
              "      <td>NaN</td>\n",
              "      <td>NaN</td>\n",
              "      <td>NaN</td>\n",
              "      <td>NaN</td>\n",
              "      <td>NaN</td>\n",
              "      <td>NaN</td>\n",
              "      <td>NaN</td>\n",
              "      <td>NaN</td>\n",
              "      <td>NaN</td>\n",
              "      <td>NaN</td>\n",
              "      <td>NaN</td>\n",
              "      <td>NaN</td>\n",
              "      <td>NaN</td>\n",
              "      <td>NaN</td>\n",
              "      <td>NaN</td>\n",
              "      <td>NaN</td>\n",
              "      <td>NaN</td>\n",
              "      <td>NaN</td>\n",
              "      <td>NaN</td>\n",
              "      <td>NaN</td>\n",
              "      <td>NaN</td>\n",
              "      <td>NaN</td>\n",
              "      <td>NaN</td>\n",
              "      <td>NaN</td>\n",
              "      <td>NaN</td>\n",
              "      <td>NaN</td>\n",
              "      <td>NaN</td>\n",
              "      <td>...</td>\n",
              "      <td>NaN</td>\n",
              "      <td>NaN</td>\n",
              "      <td>NaN</td>\n",
              "      <td>NaN</td>\n",
              "      <td>NaN</td>\n",
              "      <td>NaN</td>\n",
              "      <td>NaN</td>\n",
              "      <td>NaN</td>\n",
              "      <td>NaN</td>\n",
              "      <td>82.0</td>\n",
              "      <td>NaN</td>\n",
              "      <td>NaN</td>\n",
              "      <td>NaN</td>\n",
              "      <td>NaN</td>\n",
              "      <td>NaN</td>\n",
              "      <td>NaN</td>\n",
              "      <td>NaN</td>\n",
              "      <td>NaN</td>\n",
              "      <td>NaN</td>\n",
              "      <td>NaN</td>\n",
              "      <td>NaN</td>\n",
              "      <td>NaN</td>\n",
              "      <td>NaN</td>\n",
              "      <td>NaN</td>\n",
              "      <td>77800.0</td>\n",
              "      <td>97500.0</td>\n",
              "      <td>129000.0</td>\n",
              "      <td>176100.0</td>\n",
              "      <td>212900.0</td>\n",
              "      <td>128100.0</td>\n",
              "      <td>82700.0</td>\n",
              "      <td>99400.0</td>\n",
              "      <td>128100.0</td>\n",
              "      <td>133600.0</td>\n",
              "      <td>209300.0</td>\n",
              "      <td>NaN</td>\n",
              "      <td>NaN</td>\n",
              "      <td>NaN</td>\n",
              "      <td>NaN</td>\n",
              "      <td>NaN</td>\n",
              "    </tr>\n",
              "  </tbody>\n",
              "</table>\n",
              "<p>5 rows × 82 columns</p>\n",
              "</div>"
            ],
            "text/plain": [
              "        Date  ... Zri_SingleFamilyResidenceRental\n",
              "0 1996-04-30  ...                             NaN\n",
              "1 1996-04-30  ...                             NaN\n",
              "2 1996-04-30  ...                             NaN\n",
              "3 1996-04-30  ...                             NaN\n",
              "4 1996-04-30  ...                             NaN\n",
              "\n",
              "[5 rows x 82 columns]"
            ]
          },
          "metadata": {
            "tags": []
          },
          "execution_count": 66
        }
      ]
    },
    {
      "cell_type": "code",
      "metadata": {
        "colab": {
          "base_uri": "https://localhost:8080/",
          "height": 228
        },
        "id": "CfTTp1UR1eJx",
        "outputId": "e2e603c7-dfad-4fc7-b498-5b9e01267d17"
      },
      "source": [
        "dfallhomes = df.groupby('RegionName', as_index=False)['ZHVI_AllHomes'].\\\n",
        "    mean().dropna().sort_values('ZHVI_AllHomes', ascending=False)\n",
        "dfallhomes.head(6)"
      ],
      "execution_count": null,
      "outputs": [
        {
          "output_type": "execute_result",
          "data": {
            "text/html": [
              "<div>\n",
              "<style scoped>\n",
              "    .dataframe tbody tr th:only-of-type {\n",
              "        vertical-align: middle;\n",
              "    }\n",
              "\n",
              "    .dataframe tbody tr th {\n",
              "        vertical-align: top;\n",
              "    }\n",
              "\n",
              "    .dataframe thead th {\n",
              "        text-align: right;\n",
              "    }\n",
              "</style>\n",
              "<table border=\"1\" class=\"dataframe\">\n",
              "  <thead>\n",
              "    <tr style=\"text-align: right;\">\n",
              "      <th></th>\n",
              "      <th>RegionName</th>\n",
              "      <th>ZHVI_AllHomes</th>\n",
              "    </tr>\n",
              "  </thead>\n",
              "  <tbody>\n",
              "    <tr>\n",
              "      <th>11</th>\n",
              "      <td>Hawaii</td>\n",
              "      <td>399382.758621</td>\n",
              "    </tr>\n",
              "    <tr>\n",
              "      <th>8</th>\n",
              "      <td>DistrictofColumbia</td>\n",
              "      <td>351876.681614</td>\n",
              "    </tr>\n",
              "    <tr>\n",
              "      <th>4</th>\n",
              "      <td>California</td>\n",
              "      <td>347527.586207</td>\n",
              "    </tr>\n",
              "    <tr>\n",
              "      <th>21</th>\n",
              "      <td>Massachusetts</td>\n",
              "      <td>280672.796935</td>\n",
              "    </tr>\n",
              "    <tr>\n",
              "      <th>32</th>\n",
              "      <td>NewYork</td>\n",
              "      <td>269655.200000</td>\n",
              "    </tr>\n",
              "    <tr>\n",
              "      <th>30</th>\n",
              "      <td>NewJersey</td>\n",
              "      <td>259898.467433</td>\n",
              "    </tr>\n",
              "  </tbody>\n",
              "</table>\n",
              "</div>"
            ],
            "text/plain": [
              "            RegionName  ZHVI_AllHomes\n",
              "11              Hawaii  399382.758621\n",
              "8   DistrictofColumbia  351876.681614\n",
              "4           California  347527.586207\n",
              "21       Massachusetts  280672.796935\n",
              "32             NewYork  269655.200000\n",
              "30           NewJersey  259898.467433"
            ]
          },
          "metadata": {
            "tags": []
          },
          "execution_count": 67
        }
      ]
    },
    {
      "cell_type": "code",
      "metadata": {
        "colab": {
          "base_uri": "https://localhost:8080/",
          "height": 570
        },
        "id": "sCMeBb0r161R",
        "outputId": "c21d28fa-2903-46c4-f35f-307f9b746419"
      },
      "source": [
        "statelist = ['Hawaii', 'DistrictofColumbia', 'California', 'Massachusetts', 'NewYork', 'NewJersey']\n",
        "stateseries = pd.DataFrame(df[(df['RegionName'].\\\n",
        "    isin(statelist))][['Date','RegionName','ZHVI_AllHomes']].\\\n",
        "    dropna().\\\n",
        "    groupby(['Date', 'RegionName'])['RegionName','ZHVI_AllHomes'].mean().unstack())\n",
        "stateseries.plot(figsize=(15,8), linewidth=3)\n",
        "plt.show()"
      ],
      "execution_count": null,
      "outputs": [
        {
          "output_type": "stream",
          "text": [
            "/usr/local/lib/python3.7/dist-packages/ipykernel_launcher.py:2: FutureWarning:\n",
            "\n",
            "Indexing with multiple keys (implicitly converted to a tuple of keys) will be deprecated, use a list instead.\n",
            "\n"
          ],
          "name": "stderr"
        },
        {
          "output_type": "display_data",
          "data": {
            "image/png": "[encoded data removed]",
            "text/plain": [
              "<Figure size 1080x576 with 1 Axes>"
            ]
          },
          "metadata": {
            "tags": [],
            "needs_background": "light"
          }
        }
      ]
    },
    {
      "cell_type": "code",
      "metadata": {
        "colab": {
          "base_uri": "https://localhost:8080/",
          "height": 228
        },
        "id": "wA3itKV829Qo",
        "outputId": "3d8c1a8c-4110-431f-e78e-902e4bf1bd1f"
      },
      "source": [
        "dfallhomes = df.groupby('RegionName', as_index=False)['ZHVIPerSqft_AllHomes'].\\\n",
        "    mean().dropna().sort_values('ZHVIPerSqft_AllHomes', ascending=False)\n",
        "dfallhomes.head(6)"
      ],
      "execution_count": null,
      "outputs": [
        {
          "output_type": "execute_result",
          "data": {
            "text/html": [
              "<div>\n",
              "<style scoped>\n",
              "    .dataframe tbody tr th:only-of-type {\n",
              "        vertical-align: middle;\n",
              "    }\n",
              "\n",
              "    .dataframe tbody tr th {\n",
              "        vertical-align: top;\n",
              "    }\n",
              "\n",
              "    .dataframe thead th {\n",
              "        text-align: right;\n",
              "    }\n",
              "</style>\n",
              "<table border=\"1\" class=\"dataframe\">\n",
              "  <thead>\n",
              "    <tr style=\"text-align: right;\">\n",
              "      <th></th>\n",
              "      <th>RegionName</th>\n",
              "      <th>ZHVIPerSqft_AllHomes</th>\n",
              "    </tr>\n",
              "  </thead>\n",
              "  <tbody>\n",
              "    <tr>\n",
              "      <th>8</th>\n",
              "      <td>DistrictofColumbia</td>\n",
              "      <td>326.632287</td>\n",
              "    </tr>\n",
              "    <tr>\n",
              "      <th>11</th>\n",
              "      <td>Hawaii</td>\n",
              "      <td>315.620690</td>\n",
              "    </tr>\n",
              "    <tr>\n",
              "      <th>4</th>\n",
              "      <td>California</td>\n",
              "      <td>226.099617</td>\n",
              "    </tr>\n",
              "    <tr>\n",
              "      <th>21</th>\n",
              "      <td>Massachusetts</td>\n",
              "      <td>179.908046</td>\n",
              "    </tr>\n",
              "    <tr>\n",
              "      <th>1</th>\n",
              "      <td>Alaska</td>\n",
              "      <td>160.465812</td>\n",
              "    </tr>\n",
              "    <tr>\n",
              "      <th>30</th>\n",
              "      <td>NewJersey</td>\n",
              "      <td>155.977011</td>\n",
              "    </tr>\n",
              "  </tbody>\n",
              "</table>\n",
              "</div>"
            ],
            "text/plain": [
              "            RegionName  ZHVIPerSqft_AllHomes\n",
              "8   DistrictofColumbia            326.632287\n",
              "11              Hawaii            315.620690\n",
              "4           California            226.099617\n",
              "21       Massachusetts            179.908046\n",
              "1               Alaska            160.465812\n",
              "30           NewJersey            155.977011"
            ]
          },
          "metadata": {
            "tags": []
          },
          "execution_count": 69
        }
      ]
    },
    {
      "cell_type": "code",
      "metadata": {
        "colab": {
          "base_uri": "https://localhost:8080/",
          "height": 570
        },
        "id": "X7o7zA7h3YWs",
        "outputId": "1e0f029b-5920-4c34-e16a-5bd3d2f54f1f"
      },
      "source": [
        "statelist = ['Hawaii', 'DistrictofColumbia', 'California', 'Massachusetts', 'Alaska', 'NewJersey']\n",
        "stateseries = pd.DataFrame(df[(df['RegionName'].\\\n",
        "    isin(statelist))][['Date','RegionName','ZHVIPerSqft_AllHomes']].\\\n",
        "    dropna().\\\n",
        "    groupby(['Date', 'RegionName'])['RegionName','ZHVIPerSqft_AllHomes'].mean().unstack())\n",
        "stateseries.plot(figsize=(15,8), linewidth=3)\n",
        "plt.show()"
      ],
      "execution_count": null,
      "outputs": [
        {
          "output_type": "stream",
          "text": [
            "/usr/local/lib/python3.7/dist-packages/ipykernel_launcher.py:2: FutureWarning:\n",
            "\n",
            "Indexing with multiple keys (implicitly converted to a tuple of keys) will be deprecated, use a list instead.\n",
            "\n"
          ],
          "name": "stderr"
        },
        {
          "output_type": "display_data",
          "data": {
            "image/png": "[encoded data removed]",
            "text/plain": [
              "<Figure size 1080x576 with 1 Axes>"
            ]
          },
          "metadata": {
            "tags": [],
            "needs_background": "light"
          }
        }
      ]
    },
    {
      "cell_type": "code",
      "metadata": {
        "colab": {
          "base_uri": "https://localhost:8080/",
          "height": 228
        },
        "id": "XulEgTBm5Oqe",
        "outputId": "49e2fa43-0e94-49ce-a52c-c4b83c7b3182"
      },
      "source": [
        "dfallhomes = df.groupby('RegionName', as_index=False)['ZHVIPerSqft_AllHomes'].\\\n",
        "    mean().dropna().sort_values('ZHVIPerSqft_AllHomes', ascending=False)\n",
        "dfallhomes.tail(6)"
      ],
      "execution_count": null,
      "outputs": [
        {
          "output_type": "execute_result",
          "data": {
            "text/html": [
              "<div>\n",
              "<style scoped>\n",
              "    .dataframe tbody tr th:only-of-type {\n",
              "        vertical-align: middle;\n",
              "    }\n",
              "\n",
              "    .dataframe tbody tr th {\n",
              "        vertical-align: top;\n",
              "    }\n",
              "\n",
              "    .dataframe thead th {\n",
              "        text-align: right;\n",
              "    }\n",
              "</style>\n",
              "<table border=\"1\" class=\"dataframe\">\n",
              "  <thead>\n",
              "    <tr style=\"text-align: right;\">\n",
              "      <th></th>\n",
              "      <th>RegionName</th>\n",
              "      <th>ZHVIPerSqft_AllHomes</th>\n",
              "    </tr>\n",
              "  </thead>\n",
              "  <tbody>\n",
              "    <tr>\n",
              "      <th>43</th>\n",
              "      <td>Texas</td>\n",
              "      <td>69.450199</td>\n",
              "    </tr>\n",
              "    <tr>\n",
              "      <th>0</th>\n",
              "      <td>Alabama</td>\n",
              "      <td>67.068966</td>\n",
              "    </tr>\n",
              "    <tr>\n",
              "      <th>3</th>\n",
              "      <td>Arkansas</td>\n",
              "      <td>60.229885</td>\n",
              "    </tr>\n",
              "    <tr>\n",
              "      <th>36</th>\n",
              "      <td>Oklahoma</td>\n",
              "      <td>58.544061</td>\n",
              "    </tr>\n",
              "    <tr>\n",
              "      <th>24</th>\n",
              "      <td>Mississippi</td>\n",
              "      <td>58.314176</td>\n",
              "    </tr>\n",
              "    <tr>\n",
              "      <th>49</th>\n",
              "      <td>WestVirginia</td>\n",
              "      <td>56.808765</td>\n",
              "    </tr>\n",
              "  </tbody>\n",
              "</table>\n",
              "</div>"
            ],
            "text/plain": [
              "      RegionName  ZHVIPerSqft_AllHomes\n",
              "43         Texas             69.450199\n",
              "0        Alabama             67.068966\n",
              "3       Arkansas             60.229885\n",
              "36      Oklahoma             58.544061\n",
              "24   Mississippi             58.314176\n",
              "49  WestVirginia             56.808765"
            ]
          },
          "metadata": {
            "tags": []
          },
          "execution_count": 71
        }
      ]
    },
    {
      "cell_type": "code",
      "metadata": {
        "colab": {
          "base_uri": "https://localhost:8080/",
          "height": 570
        },
        "id": "vu4BmDhS5Rnx",
        "outputId": "43cf6cf8-6734-4937-cda0-fbbc0d3dc28c"
      },
      "source": [
        "statelist = ['Texas', 'Alabama', 'Arkansas', 'Oklahoma', 'Mississippi', 'WestVirginia']\n",
        "stateseries = pd.DataFrame(df[(df['RegionName'].\\\n",
        "    isin(statelist))][['Date','RegionName','ZHVIPerSqft_AllHomes']].\\\n",
        "    dropna().\\\n",
        "    groupby(['Date', 'RegionName'])['RegionName','ZHVIPerSqft_AllHomes'].mean().unstack())\n",
        "stateseries.plot(figsize=(15,8), linewidth=3)\n",
        "plt.show()"
      ],
      "execution_count": null,
      "outputs": [
        {
          "output_type": "stream",
          "text": [
            "/usr/local/lib/python3.7/dist-packages/ipykernel_launcher.py:2: FutureWarning:\n",
            "\n",
            "Indexing with multiple keys (implicitly converted to a tuple of keys) will be deprecated, use a list instead.\n",
            "\n"
          ],
          "name": "stderr"
        },
        {
          "output_type": "display_data",
          "data": {
            "image/png": "[encoded data removed]",
            "text/plain": [
              "<Figure size 1080x576 with 1 Axes>"
            ]
          },
          "metadata": {
            "tags": [],
            "needs_background": "light"
          }
        }
      ]
    },
    {
      "cell_type": "code",
      "metadata": {
        "colab": {
          "base_uri": "https://localhost:8080/",
          "height": 218
        },
        "id": "FiGgYBtf5tv2",
        "outputId": "4589d180-40b0-41d1-f175-12bb8f9c6ca9"
      },
      "source": [
        "dataset_modelo.head()"
      ],
      "execution_count": null,
      "outputs": [
        {
          "output_type": "execute_result",
          "data": {
            "text/html": [
              "<div>\n",
              "<style scoped>\n",
              "    .dataframe tbody tr th:only-of-type {\n",
              "        vertical-align: middle;\n",
              "    }\n",
              "\n",
              "    .dataframe tbody tr th {\n",
              "        vertical-align: top;\n",
              "    }\n",
              "\n",
              "    .dataframe thead th {\n",
              "        text-align: right;\n",
              "    }\n",
              "</style>\n",
              "<table border=\"1\" class=\"dataframe\">\n",
              "  <thead>\n",
              "    <tr style=\"text-align: right;\">\n",
              "      <th></th>\n",
              "      <th>FIPS</th>\n",
              "      <th>CountyName</th>\n",
              "      <th>StateName</th>\n",
              "      <th>NumberOfSchools</th>\n",
              "      <th>UnemploymentRate</th>\n",
              "      <th>crime_rate_per_100000</th>\n",
              "      <th>AverageHousePrice</th>\n",
              "      <th>ZHVIPerSqft_AllHomes</th>\n",
              "      <th>MedianRentalPrice_AllHomes</th>\n",
              "    </tr>\n",
              "  </thead>\n",
              "  <tbody>\n",
              "    <tr>\n",
              "      <th>0</th>\n",
              "      <td>1001</td>\n",
              "      <td>Autauga</td>\n",
              "      <td>Alabama</td>\n",
              "      <td>15</td>\n",
              "      <td>3.6</td>\n",
              "      <td>251.601926</td>\n",
              "      <td>114483.67</td>\n",
              "      <td>72.56</td>\n",
              "      <td>1255.21</td>\n",
              "    </tr>\n",
              "    <tr>\n",
              "      <th>1</th>\n",
              "      <td>1003</td>\n",
              "      <td>Baldwin</td>\n",
              "      <td>Alabama</td>\n",
              "      <td>47</td>\n",
              "      <td>3.6</td>\n",
              "      <td>228.086325</td>\n",
              "      <td>164861.69</td>\n",
              "      <td>90.39</td>\n",
              "      <td>1165.94</td>\n",
              "    </tr>\n",
              "    <tr>\n",
              "      <th>2</th>\n",
              "      <td>1069</td>\n",
              "      <td>Houston</td>\n",
              "      <td>Alabama</td>\n",
              "      <td>31</td>\n",
              "      <td>4.1</td>\n",
              "      <td>401.281012</td>\n",
              "      <td>114941.00</td>\n",
              "      <td>72.94</td>\n",
              "      <td>975.63</td>\n",
              "    </tr>\n",
              "    <tr>\n",
              "      <th>3</th>\n",
              "      <td>1073</td>\n",
              "      <td>Jefferson</td>\n",
              "      <td>Alabama</td>\n",
              "      <td>226</td>\n",
              "      <td>3.7</td>\n",
              "      <td>798.357491</td>\n",
              "      <td>99759.77</td>\n",
              "      <td>68.25</td>\n",
              "      <td>855.86</td>\n",
              "    </tr>\n",
              "    <tr>\n",
              "      <th>4</th>\n",
              "      <td>1081</td>\n",
              "      <td>Lee</td>\n",
              "      <td>Alabama</td>\n",
              "      <td>37</td>\n",
              "      <td>3.6</td>\n",
              "      <td>246.466975</td>\n",
              "      <td>148163.22</td>\n",
              "      <td>74.79</td>\n",
              "      <td>1143.89</td>\n",
              "    </tr>\n",
              "  </tbody>\n",
              "</table>\n",
              "</div>"
            ],
            "text/plain": [
              "   FIPS CountyName  ... ZHVIPerSqft_AllHomes  MedianRentalPrice_AllHomes\n",
              "0  1001    Autauga  ...                72.56                     1255.21\n",
              "1  1003    Baldwin  ...                90.39                     1165.94\n",
              "2  1069    Houston  ...                72.94                      975.63\n",
              "3  1073  Jefferson  ...                68.25                      855.86\n",
              "4  1081        Lee  ...                74.79                     1143.89\n",
              "\n",
              "[5 rows x 9 columns]"
            ]
          },
          "metadata": {
            "tags": []
          },
          "execution_count": 73
        }
      ]
    },
    {
      "cell_type": "code",
      "metadata": {
        "id": "G12LyRxC87vc"
      },
      "source": [
        "xgboost = XGBRegressor(objective ='reg:squarederror',\n",
        "n_estimators=1000, learning_rate=0.065, gamma=0, subsample=0.75,\n",
        "colsample_bytree=1, max_depth=7)"
      ],
      "execution_count": null,
      "outputs": []
    },
    {
      "cell_type": "code",
      "metadata": {
        "colab": {
          "base_uri": "https://localhost:8080/",
          "height": 479
        },
        "id": "JHgnsZc-92Qe",
        "outputId": "4ec4509a-3627-408b-8ad2-f5ab97df9410"
      },
      "source": [
        "dataset_modelo.sample(frac = 1)"
      ],
      "execution_count": null,
      "outputs": [
        {
          "output_type": "execute_result",
          "data": {
            "text/html": [
              "<div>\n",
              "<style scoped>\n",
              "    .dataframe tbody tr th:only-of-type {\n",
              "        vertical-align: middle;\n",
              "    }\n",
              "\n",
              "    .dataframe tbody tr th {\n",
              "        vertical-align: top;\n",
              "    }\n",
              "\n",
              "    .dataframe thead th {\n",
              "        text-align: right;\n",
              "    }\n",
              "</style>\n",
              "<table border=\"1\" class=\"dataframe\">\n",
              "  <thead>\n",
              "    <tr style=\"text-align: right;\">\n",
              "      <th></th>\n",
              "      <th>FIPS</th>\n",
              "      <th>CountyName</th>\n",
              "      <th>StateName</th>\n",
              "      <th>NumberOfSchools</th>\n",
              "      <th>UnemploymentRate</th>\n",
              "      <th>crime_rate_per_100000</th>\n",
              "      <th>AverageHousePrice</th>\n",
              "      <th>ZHVIPerSqft_AllHomes</th>\n",
              "      <th>MedianRentalPrice_AllHomes</th>\n",
              "    </tr>\n",
              "  </thead>\n",
              "  <tbody>\n",
              "    <tr>\n",
              "      <th>93</th>\n",
              "      <td>12033</td>\n",
              "      <td>Escambia</td>\n",
              "      <td>Florida</td>\n",
              "      <td>76</td>\n",
              "      <td>3.6</td>\n",
              "      <td>798.516760</td>\n",
              "      <td>110838.70</td>\n",
              "      <td>70.02</td>\n",
              "      <td>894.44</td>\n",
              "    </tr>\n",
              "    <tr>\n",
              "      <th>96</th>\n",
              "      <td>12057</td>\n",
              "      <td>Hillsborough</td>\n",
              "      <td>Florida</td>\n",
              "      <td>328</td>\n",
              "      <td>3.3</td>\n",
              "      <td>353.830740</td>\n",
              "      <td>138548.66</td>\n",
              "      <td>87.55</td>\n",
              "      <td>1261.01</td>\n",
              "    </tr>\n",
              "    <tr>\n",
              "      <th>127</th>\n",
              "      <td>13057</td>\n",
              "      <td>Cherokee</td>\n",
              "      <td>Georgia</td>\n",
              "      <td>39</td>\n",
              "      <td>3.0</td>\n",
              "      <td>91.512443</td>\n",
              "      <td>163307.66</td>\n",
              "      <td>88.59</td>\n",
              "      <td>1304.67</td>\n",
              "    </tr>\n",
              "    <tr>\n",
              "      <th>166</th>\n",
              "      <td>17119</td>\n",
              "      <td>Madison</td>\n",
              "      <td>Illinois</td>\n",
              "      <td>80</td>\n",
              "      <td>4.2</td>\n",
              "      <td>226.775189</td>\n",
              "      <td>95895.40</td>\n",
              "      <td>70.72</td>\n",
              "      <td>855.21</td>\n",
              "    </tr>\n",
              "    <tr>\n",
              "      <th>228</th>\n",
              "      <td>24015</td>\n",
              "      <td>Cecil</td>\n",
              "      <td>Maryland</td>\n",
              "      <td>29</td>\n",
              "      <td>4.6</td>\n",
              "      <td>538.694769</td>\n",
              "      <td>186104.60</td>\n",
              "      <td>122.63</td>\n",
              "      <td>1331.08</td>\n",
              "    </tr>\n",
              "    <tr>\n",
              "      <th>...</th>\n",
              "      <td>...</td>\n",
              "      <td>...</td>\n",
              "      <td>...</td>\n",
              "      <td>...</td>\n",
              "      <td>...</td>\n",
              "      <td>...</td>\n",
              "      <td>...</td>\n",
              "      <td>...</td>\n",
              "      <td>...</td>\n",
              "    </tr>\n",
              "    <tr>\n",
              "      <th>352</th>\n",
              "      <td>37105</td>\n",
              "      <td>Lee</td>\n",
              "      <td>North Carolina</td>\n",
              "      <td>16</td>\n",
              "      <td>4.3</td>\n",
              "      <td>184.183453</td>\n",
              "      <td>105507.28</td>\n",
              "      <td>68.55</td>\n",
              "      <td>1079.00</td>\n",
              "    </tr>\n",
              "    <tr>\n",
              "      <th>304</th>\n",
              "      <td>34027</td>\n",
              "      <td>Morris</td>\n",
              "      <td>New Jersey</td>\n",
              "      <td>156</td>\n",
              "      <td>3.3</td>\n",
              "      <td>70.284763</td>\n",
              "      <td>365167.43</td>\n",
              "      <td>194.41</td>\n",
              "      <td>2240.11</td>\n",
              "    </tr>\n",
              "    <tr>\n",
              "      <th>354</th>\n",
              "      <td>37125</td>\n",
              "      <td>Moore</td>\n",
              "      <td>North Carolina</td>\n",
              "      <td>25</td>\n",
              "      <td>3.9</td>\n",
              "      <td>198.718159</td>\n",
              "      <td>159233.33</td>\n",
              "      <td>96.53</td>\n",
              "      <td>1394.17</td>\n",
              "    </tr>\n",
              "    <tr>\n",
              "      <th>285</th>\n",
              "      <td>31153</td>\n",
              "      <td>Sarpy</td>\n",
              "      <td>Nebraska</td>\n",
              "      <td>64</td>\n",
              "      <td>2.6</td>\n",
              "      <td>55.512576</td>\n",
              "      <td>140885.82</td>\n",
              "      <td>76.72</td>\n",
              "      <td>1262.88</td>\n",
              "    </tr>\n",
              "    <tr>\n",
              "      <th>170</th>\n",
              "      <td>17179</td>\n",
              "      <td>Tazewell</td>\n",
              "      <td>Illinois</td>\n",
              "      <td>56</td>\n",
              "      <td>4.6</td>\n",
              "      <td>236.153485</td>\n",
              "      <td>105014.18</td>\n",
              "      <td>77.66</td>\n",
              "      <td>905.08</td>\n",
              "    </tr>\n",
              "  </tbody>\n",
              "</table>\n",
              "<p>535 rows × 9 columns</p>\n",
              "</div>"
            ],
            "text/plain": [
              "      FIPS    CountyName  ... ZHVIPerSqft_AllHomes  MedianRentalPrice_AllHomes\n",
              "93   12033      Escambia  ...                70.02                      894.44\n",
              "96   12057  Hillsborough  ...                87.55                     1261.01\n",
              "127  13057      Cherokee  ...                88.59                     1304.67\n",
              "166  17119       Madison  ...                70.72                      855.21\n",
              "228  24015         Cecil  ...               122.63                     1331.08\n",
              "..     ...           ...  ...                  ...                         ...\n",
              "352  37105           Lee  ...                68.55                     1079.00\n",
              "304  34027        Morris  ...               194.41                     2240.11\n",
              "354  37125         Moore  ...                96.53                     1394.17\n",
              "285  31153         Sarpy  ...                76.72                     1262.88\n",
              "170  17179      Tazewell  ...                77.66                      905.08\n",
              "\n",
              "[535 rows x 9 columns]"
            ]
          },
          "metadata": {
            "tags": []
          },
          "execution_count": 179
        }
      ]
    },
    {
      "cell_type": "code",
      "metadata": {
        "colab": {
          "base_uri": "https://localhost:8080/"
        },
        "id": "ysTr5OEWqTv4",
        "outputId": "c084e105-d072-4dd6-f4e6-0efa6a83ac79"
      },
      "source": [
        "dataset_modelo[['AverageHousePrice']]  = np.log1p(dataset_modelo[['AverageHousePrice']] )"
      ],
      "execution_count": null,
      "outputs": [
        {
          "output_type": "stream",
          "text": [
            "/usr/local/lib/python3.7/dist-packages/pandas/core/frame.py:3069: SettingWithCopyWarning:\n",
            "\n",
            "\n",
            "A value is trying to be set on a copy of a slice from a DataFrame.\n",
            "Try using .loc[row_indexer,col_indexer] = value instead\n",
            "\n",
            "See the caveats in the documentation: https://pandas.pydata.org/pandas-docs/stable/user_guide/indexing.html#returning-a-view-versus-a-copy\n",
            "\n"
          ],
          "name": "stderr"
        }
      ]
    },
    {
      "cell_type": "code",
      "metadata": {
        "id": "_C_dI5Xj9_Do"
      },
      "source": [
        "x = dataset_modelo[['FIPS','UnemploymentRate', 'NumberOfSchools', 'crime_rate_per_100000']]\n",
        "y = dataset_modelo[['AverageHousePrice']] \n",
        "\n",
        "x_train, x_test, y_train, y_test = train_test_split(x, y, test_size=0.2, random_state=0)"
      ],
      "execution_count": null,
      "outputs": []
    },
    {
      "cell_type": "code",
      "metadata": {
        "colab": {
          "base_uri": "https://localhost:8080/"
        },
        "id": "HNq3ckM0-arO",
        "outputId": "7c6df9ec-6a9f-417a-8ea5-729a408fd841"
      },
      "source": [
        "xgboost.fit(x_train, y_train)"
      ],
      "execution_count": null,
      "outputs": [
        {
          "output_type": "execute_result",
          "data": {
            "text/plain": [
              "XGBRegressor(base_score=0.5, booster='gbtree', colsample_bylevel=1,\n",
              "             colsample_bynode=1, colsample_bytree=1, gamma=0,\n",
              "             importance_type='gain', learning_rate=0.065, max_delta_step=0,\n",
              "             max_depth=7, min_child_weight=1, missing=None, n_estimators=1000,\n",
              "             n_jobs=1, nthread=None, objective='reg:squarederror',\n",
              "             random_state=0, reg_alpha=0, reg_lambda=1, scale_pos_weight=1,\n",
              "             seed=None, silent=None, subsample=0.75, verbosity=1)"
            ]
          },
          "metadata": {
            "tags": []
          },
          "execution_count": 183
        }
      ]
    },
    {
      "cell_type": "code",
      "metadata": {
        "colab": {
          "base_uri": "https://localhost:8080/"
        },
        "id": "9ShV1DpI-t6E",
        "outputId": "b106b4ac-e41a-4282-c620-b61514e4c310"
      },
      "source": [
        "y_pred = xgboost.predict(x_test)\n",
        "print(\"mse of the model : \", mean_squared_error(y_test, y_pred)) "
      ],
      "execution_count": null,
      "outputs": [
        {
          "output_type": "stream",
          "text": [
            "mse of the model :  0.08902102393402903\n"
          ],
          "name": "stdout"
        }
      ]
    },
    {
      "cell_type": "code",
      "metadata": {
        "colab": {
          "base_uri": "https://localhost:8080/"
        },
        "id": "71OEyxpF-3Mv",
        "outputId": "ea17f224-3232-48cc-a2e0-f33ffb570a49"
      },
      "source": [
        "print(\"This is the importance of each feature: {0}\".format(xgboost.feature_importances_))"
      ],
      "execution_count": null,
      "outputs": [
        {
          "output_type": "stream",
          "text": [
            "This is the importance of each feature: [0.278 0.255 0.24  0.226]\n"
          ],
          "name": "stdout"
        }
      ]
    },
    {
      "cell_type": "code",
      "metadata": {
        "colab": {
          "base_uri": "https://localhost:8080/",
          "height": 295
        },
        "id": "2Hw2BDk0-9uj",
        "outputId": "5e1aefc8-ce33-4bdc-9377-e3765d69eb64"
      },
      "source": [
        "from xgboost import plot_importance\n",
        "plot_importance(xgboost)\n",
        "plt.show()"
      ],
      "execution_count": null,
      "outputs": [
        {
          "output_type": "display_data",
          "data": {
            "image/png": "[encoded data removed]",
            "text/plain": [
              "<Figure size 432x288 with 1 Axes>"
            ]
          },
          "metadata": {
            "tags": [],
            "needs_background": "light"
          }
        }
      ]
    },
    {
      "cell_type": "code",
      "metadata": {
        "colab": {
          "base_uri": "https://localhost:8080/"
        },
        "id": "ovBR78aUAdHk",
        "outputId": "7f5b6f5c-c65e-426f-a43d-8e7a4383e125"
      },
      "source": [
        "print(\"r2 of the model : \", r2_score(y_test, y_pred)) "
      ],
      "execution_count": null,
      "outputs": [
        {
          "output_type": "stream",
          "text": [
            "r2 of the model :  0.3816476247723922\n"
          ],
          "name": "stdout"
        }
      ]
    },
    {
      "cell_type": "code",
      "metadata": {
        "colab": {
          "base_uri": "https://localhost:8080/"
        },
        "id": "nfsEXoD5BE_Z",
        "outputId": "bece12ad-8fcf-4300-a6e8-cf7f2a0cf1c3"
      },
      "source": [
        "print (\"These are the first five entries\")\n",
        "print (x_test[:5])\n",
        "print (\"These are the model prediction for these entries\")\n",
        "print (xgboost.predict(x_test[:5]))\n",
        "print (\"These are the actual prices\")\n",
        "print (y_test[:5])"
      ],
      "execution_count": null,
      "outputs": [
        {
          "output_type": "stream",
          "text": [
            "These are the first five entries\n",
            "      FIPS  UnemploymentRate  NumberOfSchools  crime_rate_per_100000\n",
            "172  17201               5.4               92             854.933154\n",
            "464  48091               3.3               48             268.399730\n",
            "196  19169               1.6               28             142.847867\n",
            "414  42071               3.4              115             165.974320\n",
            "531  55127               2.9               42             117.538491\n",
            "These are the model prediction for these entries\n",
            "[11.65  11.635 12.031 12.351 12.046]\n",
            "These are the actual prices\n",
            "     AverageHousePrice\n",
            "172          11.526862\n",
            "464          12.112340\n",
            "196          11.924260\n",
            "414          11.964851\n",
            "531          11.901938\n"
          ],
          "name": "stdout"
        }
      ]
    },
    {
      "cell_type": "markdown",
      "metadata": {
        "id": "nriE2RZ8i3Xy"
      },
      "source": [
        "## Modelo 2"
      ]
    },
    {
      "cell_type": "code",
      "metadata": {
        "id": "ozGKJkiAmLcY"
      },
      "source": [
        "xgboost = XGBRegressor(objective ='reg:linear',\n",
        "n_estimators=1500, learning_rate=0.08, gamma=0, subsample=0.75,\n",
        "colsample_bytree=1, max_depth=7)"
      ],
      "execution_count": null,
      "outputs": []
    },
    {
      "cell_type": "code",
      "metadata": {
        "colab": {
          "base_uri": "https://localhost:8080/",
          "height": 235
        },
        "id": "3euEbkU8mMV9",
        "outputId": "6e10b228-c30e-4d73-e2e3-e140882f918c"
      },
      "source": [
        "dataset_mod_2 = dataset.sample(frac = 1)\n",
        "dataset_mod_2.head()"
      ],
      "execution_count": null,
      "outputs": [
        {
          "output_type": "execute_result",
          "data": {
            "text/html": [
              "<div>\n",
              "<style scoped>\n",
              "    .dataframe tbody tr th:only-of-type {\n",
              "        vertical-align: middle;\n",
              "    }\n",
              "\n",
              "    .dataframe tbody tr th {\n",
              "        vertical-align: top;\n",
              "    }\n",
              "\n",
              "    .dataframe thead th {\n",
              "        text-align: right;\n",
              "    }\n",
              "</style>\n",
              "<table border=\"1\" class=\"dataframe\">\n",
              "  <thead>\n",
              "    <tr style=\"text-align: right;\">\n",
              "      <th></th>\n",
              "      <th>FIPS</th>\n",
              "      <th>CountyName</th>\n",
              "      <th>StateName</th>\n",
              "      <th>NumberOfSchools</th>\n",
              "      <th>NumberOfHospitals</th>\n",
              "      <th>AverageHospitalRating</th>\n",
              "      <th>UnemploymentRate</th>\n",
              "      <th>crime_rate_per_100000</th>\n",
              "      <th>AverageHousePrice</th>\n",
              "      <th>ZHVIPerSqft_AllHomes</th>\n",
              "      <th>MedianRentalPrice_AllHomes</th>\n",
              "    </tr>\n",
              "  </thead>\n",
              "  <tbody>\n",
              "    <tr>\n",
              "      <th>182</th>\n",
              "      <td>18095</td>\n",
              "      <td>Madison</td>\n",
              "      <td>Indiana</td>\n",
              "      <td>30</td>\n",
              "      <td>5</td>\n",
              "      <td>4.00</td>\n",
              "      <td>3.8</td>\n",
              "      <td>261.338729</td>\n",
              "      <td>78514.18</td>\n",
              "      <td>57.60</td>\n",
              "      <td>702.81</td>\n",
              "    </tr>\n",
              "    <tr>\n",
              "      <th>154</th>\n",
              "      <td>16019</td>\n",
              "      <td>Bonneville</td>\n",
              "      <td>Idaho</td>\n",
              "      <td>52</td>\n",
              "      <td>2</td>\n",
              "      <td>3.50</td>\n",
              "      <td>2.4</td>\n",
              "      <td>186.947180</td>\n",
              "      <td>113735.25</td>\n",
              "      <td>67.65</td>\n",
              "      <td>916.74</td>\n",
              "    </tr>\n",
              "    <tr>\n",
              "      <th>373</th>\n",
              "      <td>39089</td>\n",
              "      <td>Licking</td>\n",
              "      <td>Ohio</td>\n",
              "      <td>56</td>\n",
              "      <td>4</td>\n",
              "      <td>3.00</td>\n",
              "      <td>3.9</td>\n",
              "      <td>318.930958</td>\n",
              "      <td>184389.36</td>\n",
              "      <td>117.26</td>\n",
              "      <td>1320.04</td>\n",
              "    </tr>\n",
              "    <tr>\n",
              "      <th>321</th>\n",
              "      <td>36055</td>\n",
              "      <td>Monroe</td>\n",
              "      <td>New York</td>\n",
              "      <td>184</td>\n",
              "      <td>8</td>\n",
              "      <td>2.75</td>\n",
              "      <td>4.4</td>\n",
              "      <td>356.854134</td>\n",
              "      <td>114760.54</td>\n",
              "      <td>79.60</td>\n",
              "      <td>1198.14</td>\n",
              "    </tr>\n",
              "    <tr>\n",
              "      <th>503</th>\n",
              "      <td>51700</td>\n",
              "      <td>Newport News City</td>\n",
              "      <td>Virginia</td>\n",
              "      <td>50</td>\n",
              "      <td>5</td>\n",
              "      <td>3.00</td>\n",
              "      <td>3.7</td>\n",
              "      <td>416.987144</td>\n",
              "      <td>144166.28</td>\n",
              "      <td>97.06</td>\n",
              "      <td>1188.98</td>\n",
              "    </tr>\n",
              "  </tbody>\n",
              "</table>\n",
              "</div>"
            ],
            "text/plain": [
              "      FIPS         CountyName  ... ZHVIPerSqft_AllHomes  MedianRentalPrice_AllHomes\n",
              "182  18095            Madison  ...                57.60                      702.81\n",
              "154  16019         Bonneville  ...                67.65                      916.74\n",
              "373  39089            Licking  ...               117.26                     1320.04\n",
              "321  36055             Monroe  ...                79.60                     1198.14\n",
              "503  51700  Newport News City  ...                97.06                     1188.98\n",
              "\n",
              "[5 rows x 11 columns]"
            ]
          },
          "metadata": {
            "tags": []
          },
          "execution_count": 248
        }
      ]
    },
    {
      "cell_type": "code",
      "metadata": {
        "colab": {
          "base_uri": "https://localhost:8080/",
          "height": 392
        },
        "id": "8PNeKCwXp2IP",
        "outputId": "36047640-5a1a-4280-823f-1819a84912d0"
      },
      "source": [
        "dataset_mod_2[['AverageHousePrice']]  = np.log1p(dataset_mod_2[['AverageHousePrice']] )\n",
        "sns.distplot(dataset_mod_2[['AverageHousePrice']]  )\n",
        "plt.title('Distribución del precio de venta (logaritmo)')"
      ],
      "execution_count": null,
      "outputs": [
        {
          "output_type": "stream",
          "text": [
            "/usr/local/lib/python3.7/dist-packages/seaborn/distributions.py:2557: FutureWarning:\n",
            "\n",
            "`distplot` is a deprecated function and will be removed in a future version. Please adapt your code to use either `displot` (a figure-level function with similar flexibility) or `histplot` (an axes-level function for histograms).\n",
            "\n"
          ],
          "name": "stderr"
        },
        {
          "output_type": "execute_result",
          "data": {
            "text/plain": [
              "Text(0.5, 1.0, 'Distribución del precio de venta (logaritmo)')"
            ]
          },
          "metadata": {
            "tags": []
          },
          "execution_count": 249
        },
        {
          "output_type": "display_data",
          "data": {
            "image/png": "[encoded data removed]",
            "text/plain": [
              "<Figure size 432x288 with 1 Axes>"
            ]
          },
          "metadata": {
            "tags": [],
            "needs_background": "light"
          }
        }
      ]
    },
    {
      "cell_type": "code",
      "metadata": {
        "id": "O_04JYJomYAM"
      },
      "source": [
        "x = dataset_mod_2[['FIPS','UnemploymentRate', 'NumberOfSchools', 'crime_rate_per_100000', 'NumberOfHospitals']]\n",
        "y = dataset_mod_2[['AverageHousePrice']] \n",
        "\n",
        "x_train, x_test, y_train, y_test = train_test_split(x, y, test_size=0.2, random_state=0)"
      ],
      "execution_count": null,
      "outputs": []
    },
    {
      "cell_type": "code",
      "metadata": {
        "colab": {
          "base_uri": "https://localhost:8080/"
        },
        "id": "tSZqfLG-mzDA",
        "outputId": "ba60a934-7ba0-4a92-affc-492bea9da728"
      },
      "source": [
        "xgboost.fit(x_train, y_train)"
      ],
      "execution_count": null,
      "outputs": [
        {
          "output_type": "stream",
          "text": [
            "[23:05:58] WARNING: /workspace/src/objective/regression_obj.cu:152: reg:linear is now deprecated in favor of reg:squarederror.\n"
          ],
          "name": "stdout"
        },
        {
          "output_type": "execute_result",
          "data": {
            "text/plain": [
              "XGBRegressor(base_score=0.5, booster='gbtree', colsample_bylevel=1,\n",
              "             colsample_bynode=1, colsample_bytree=1, gamma=0,\n",
              "             importance_type='gain', learning_rate=0.08, max_delta_step=0,\n",
              "             max_depth=7, min_child_weight=1, missing=None, n_estimators=1500,\n",
              "             n_jobs=1, nthread=None, objective='reg:linear', random_state=0,\n",
              "             reg_alpha=0, reg_lambda=1, scale_pos_weight=1, seed=None,\n",
              "             silent=None, subsample=0.75, verbosity=1)"
            ]
          },
          "metadata": {
            "tags": []
          },
          "execution_count": 251
        }
      ]
    },
    {
      "cell_type": "code",
      "metadata": {
        "colab": {
          "base_uri": "https://localhost:8080/"
        },
        "id": "jDPQedIQm4vp",
        "outputId": "7fce867b-6cef-4f65-ca32-c35996e81f52"
      },
      "source": [
        "y_pred = xgboost.predict(x_test)\n",
        "print(\"mse of the model : \", mean_squared_error(y_test, y_pred)) "
      ],
      "execution_count": null,
      "outputs": [
        {
          "output_type": "stream",
          "text": [
            "mse of the model :  0.10220248639703554\n"
          ],
          "name": "stdout"
        }
      ]
    },
    {
      "cell_type": "code",
      "metadata": {
        "colab": {
          "base_uri": "https://localhost:8080/"
        },
        "id": "PGyJeJAvm7lL",
        "outputId": "8722fc5f-5d57-4390-a59d-a09b31e7f5e7"
      },
      "source": [
        "print(\"This is the importance of each feature: {0}\".format(xgboost.feature_importances_))"
      ],
      "execution_count": null,
      "outputs": [
        {
          "output_type": "stream",
          "text": [
            "This is the importance of each feature: [0.245 0.213 0.187 0.208 0.146]\n"
          ],
          "name": "stdout"
        }
      ]
    },
    {
      "cell_type": "code",
      "metadata": {
        "colab": {
          "base_uri": "https://localhost:8080/",
          "height": 295
        },
        "id": "Bs1xXHSPm-RB",
        "outputId": "1528fc8c-cd48-4855-c16c-2f908fe13461"
      },
      "source": [
        "from xgboost import plot_importance\n",
        "plot_importance(xgboost)\n",
        "plt.show()"
      ],
      "execution_count": null,
      "outputs": [
        {
          "output_type": "display_data",
          "data": {
            "image/png": "[encoded data removed]",
            "text/plain": [
              "<Figure size 432x288 with 1 Axes>"
            ]
          },
          "metadata": {
            "tags": [],
            "needs_background": "light"
          }
        }
      ]
    },
    {
      "cell_type": "code",
      "metadata": {
        "colab": {
          "base_uri": "https://localhost:8080/"
        },
        "id": "BChVHBc-nB6v",
        "outputId": "3ee08729-9834-400b-af18-f2658ac97029"
      },
      "source": [
        "print(\"r2 of the model : \", r2_score(y_test, y_pred)) "
      ],
      "execution_count": null,
      "outputs": [
        {
          "output_type": "stream",
          "text": [
            "r2 of the model :  0.5517220212143743\n"
          ],
          "name": "stdout"
        }
      ]
    },
    {
      "cell_type": "code",
      "metadata": {
        "colab": {
          "base_uri": "https://localhost:8080/"
        },
        "id": "RP17z31mnEfL",
        "outputId": "e71571f3-d19d-4dd6-adcf-f5a74352dcf3"
      },
      "source": [
        "print (\"These are the first five entries\")\n",
        "print (x_test[:5])\n",
        "print (\"These are the model prediction for these entries\")\n",
        "print (np.exp(xgboost.predict(x_test[:5])))\n",
        "print (\"These are the actual prices\")\n",
        "print (np.exp(y_test[:5]))"
      ],
      "execution_count": null,
      "outputs": [
        {
          "output_type": "stream",
          "text": [
            "These are the first five entries\n",
            "      FIPS  UnemploymentRate  ...  crime_rate_per_100000  NumberOfHospitals\n",
            "283  30111               3.4  ...             288.008718                  3\n",
            "164  17113               3.8  ...             320.074207                  2\n",
            "30    6017               3.6  ...             244.309084                  3\n",
            "222  22105               5.3  ...             952.859376                 10\n",
            "260  27019               2.5  ...              62.786463                  1\n",
            "\n",
            "[5 rows x 5 columns]\n",
            "These are the model prediction for these entries\n",
            "[141518.36  121397.47  286997.34   86328.516 214979.19 ]\n",
            "These are the actual prices\n",
            "     AverageHousePrice\n",
            "283          155321.42\n",
            "164          129791.42\n",
            "30           311346.59\n",
            "222          139842.00\n",
            "260          234789.89\n"
          ],
          "name": "stdout"
        }
      ]
    },
    {
      "cell_type": "markdown",
      "metadata": {
        "id": "KGKVq3EmrsPw"
      },
      "source": [
        "## Modelo 3"
      ]
    },
    {
      "cell_type": "code",
      "metadata": {
        "id": "Ld_tJNdUryXf"
      },
      "source": [
        "xgboost = XGBRegressor(objective ='reg:linear',\n",
        "n_estimators=1500, learning_rate=0.08, gamma=0, subsample=0.75,\n",
        "colsample_bytree=1, max_depth=7)"
      ],
      "execution_count": null,
      "outputs": []
    },
    {
      "cell_type": "code",
      "metadata": {
        "colab": {
          "base_uri": "https://localhost:8080/",
          "height": 218
        },
        "id": "u8Zws4RCr1Ll",
        "outputId": "b6683754-4975-4248-c6e9-78cc3f26cf60"
      },
      "source": [
        "dataset_mod_3 = dataset.sample(frac = 1)\n",
        "dataset_mod_3.head()"
      ],
      "execution_count": null,
      "outputs": [
        {
          "output_type": "execute_result",
          "data": {
            "text/html": [
              "<div>\n",
              "<style scoped>\n",
              "    .dataframe tbody tr th:only-of-type {\n",
              "        vertical-align: middle;\n",
              "    }\n",
              "\n",
              "    .dataframe tbody tr th {\n",
              "        vertical-align: top;\n",
              "    }\n",
              "\n",
              "    .dataframe thead th {\n",
              "        text-align: right;\n",
              "    }\n",
              "</style>\n",
              "<table border=\"1\" class=\"dataframe\">\n",
              "  <thead>\n",
              "    <tr style=\"text-align: right;\">\n",
              "      <th></th>\n",
              "      <th>FIPS</th>\n",
              "      <th>CountyName</th>\n",
              "      <th>StateName</th>\n",
              "      <th>NumberOfSchools</th>\n",
              "      <th>NumberOfHospitals</th>\n",
              "      <th>AverageHospitalRating</th>\n",
              "      <th>UnemploymentRate</th>\n",
              "      <th>crime_rate_per_100000</th>\n",
              "      <th>AverageHousePrice</th>\n",
              "      <th>ZHVIPerSqft_AllHomes</th>\n",
              "      <th>MedianRentalPrice_AllHomes</th>\n",
              "    </tr>\n",
              "  </thead>\n",
              "  <tbody>\n",
              "    <tr>\n",
              "      <th>383</th>\n",
              "      <td>40017</td>\n",
              "      <td>Canadian</td>\n",
              "      <td>Oklahoma</td>\n",
              "      <td>47</td>\n",
              "      <td>2</td>\n",
              "      <td>2.99</td>\n",
              "      <td>2.9</td>\n",
              "      <td>450.354020</td>\n",
              "      <td>143500.00</td>\n",
              "      <td>85.66</td>\n",
              "      <td>1265.08</td>\n",
              "    </tr>\n",
              "    <tr>\n",
              "      <th>106</th>\n",
              "      <td>12091</td>\n",
              "      <td>Okaloosa</td>\n",
              "      <td>Florida</td>\n",
              "      <td>53</td>\n",
              "      <td>6</td>\n",
              "      <td>3.33</td>\n",
              "      <td>2.8</td>\n",
              "      <td>464.369927</td>\n",
              "      <td>158882.76</td>\n",
              "      <td>96.80</td>\n",
              "      <td>1096.57</td>\n",
              "    </tr>\n",
              "    <tr>\n",
              "      <th>467</th>\n",
              "      <td>48121</td>\n",
              "      <td>Denton</td>\n",
              "      <td>Texas</td>\n",
              "      <td>234</td>\n",
              "      <td>19</td>\n",
              "      <td>3.75</td>\n",
              "      <td>3.1</td>\n",
              "      <td>161.498575</td>\n",
              "      <td>173666.15</td>\n",
              "      <td>84.17</td>\n",
              "      <td>1571.54</td>\n",
              "    </tr>\n",
              "    <tr>\n",
              "      <th>227</th>\n",
              "      <td>24013</td>\n",
              "      <td>Carroll</td>\n",
              "      <td>Maryland</td>\n",
              "      <td>47</td>\n",
              "      <td>2</td>\n",
              "      <td>2.99</td>\n",
              "      <td>3.4</td>\n",
              "      <td>182.616791</td>\n",
              "      <td>253365.52</td>\n",
              "      <td>150.69</td>\n",
              "      <td>1637.84</td>\n",
              "    </tr>\n",
              "    <tr>\n",
              "      <th>226</th>\n",
              "      <td>24009</td>\n",
              "      <td>Calvert</td>\n",
              "      <td>Maryland</td>\n",
              "      <td>26</td>\n",
              "      <td>1</td>\n",
              "      <td>2.99</td>\n",
              "      <td>3.7</td>\n",
              "      <td>127.094293</td>\n",
              "      <td>265404.60</td>\n",
              "      <td>140.14</td>\n",
              "      <td>1675.50</td>\n",
              "    </tr>\n",
              "  </tbody>\n",
              "</table>\n",
              "</div>"
            ],
            "text/plain": [
              "      FIPS CountyName  ... ZHVIPerSqft_AllHomes  MedianRentalPrice_AllHomes\n",
              "383  40017   Canadian  ...                85.66                     1265.08\n",
              "106  12091   Okaloosa  ...                96.80                     1096.57\n",
              "467  48121     Denton  ...                84.17                     1571.54\n",
              "227  24013    Carroll  ...               150.69                     1637.84\n",
              "226  24009    Calvert  ...               140.14                     1675.50\n",
              "\n",
              "[5 rows x 11 columns]"
            ]
          },
          "metadata": {
            "tags": []
          },
          "execution_count": 202
        }
      ]
    },
    {
      "cell_type": "code",
      "metadata": {
        "colab": {
          "base_uri": "https://localhost:8080/",
          "height": 392
        },
        "id": "EHST68MBr4dz",
        "outputId": "c93e1e1e-d214-41c7-8e46-83f334057813"
      },
      "source": [
        "dataset_mod_3[['AverageHousePrice']]  = np.log1p(dataset_mod_3[['AverageHousePrice']] )\n",
        "sns.distplot(dataset_mod_3[['AverageHousePrice']]  )\n",
        "plt.title('Distribución del precio de venta (logaritmo)')"
      ],
      "execution_count": null,
      "outputs": [
        {
          "output_type": "stream",
          "text": [
            "/usr/local/lib/python3.7/dist-packages/seaborn/distributions.py:2557: FutureWarning:\n",
            "\n",
            "`distplot` is a deprecated function and will be removed in a future version. Please adapt your code to use either `displot` (a figure-level function with similar flexibility) or `histplot` (an axes-level function for histograms).\n",
            "\n"
          ],
          "name": "stderr"
        },
        {
          "output_type": "execute_result",
          "data": {
            "text/plain": [
              "Text(0.5, 1.0, 'Distribución del precio de venta (logaritmo)')"
            ]
          },
          "metadata": {
            "tags": []
          },
          "execution_count": 203
        },
        {
          "output_type": "display_data",
          "data": {
            "image/png": "[encoded data removed]",
            "text/plain": [
              "<Figure size 432x288 with 1 Axes>"
            ]
          },
          "metadata": {
            "tags": [],
            "needs_background": "light"
          }
        }
      ]
    },
    {
      "cell_type": "code",
      "metadata": {
        "id": "2HLXML4nsc_l"
      },
      "source": [
        "dataset_mod_3[['UnemploymentRate']]  = np.log1p(dataset_mod_3[['UnemploymentRate']] )\n",
        "dataset_mod_3[['NumberOfSchools']]  = np.log1p(dataset_mod_3[['NumberOfSchools']] )\n",
        "dataset_mod_3[['crime_rate_per_100000']]  = np.log1p(dataset_mod_3[['crime_rate_per_100000']] )\n",
        "dataset_mod_3[['NumberOfHospitals']]  = np.log1p(dataset_mod_3[['NumberOfHospitals']] )"
      ],
      "execution_count": null,
      "outputs": []
    },
    {
      "cell_type": "code",
      "metadata": {
        "id": "uPRfGUVur_ep"
      },
      "source": [
        "x = dataset_mod_3[['FIPS','UnemploymentRate', 'NumberOfSchools', 'crime_rate_per_100000', 'NumberOfHospitals']]\n",
        "y = dataset_mod_3[['AverageHousePrice']] \n",
        "\n",
        "x_train, x_test, y_train, y_test = train_test_split(x, y, test_size=0.2, random_state=0)\n"
      ],
      "execution_count": null,
      "outputs": []
    },
    {
      "cell_type": "code",
      "metadata": {
        "colab": {
          "base_uri": "https://localhost:8080/"
        },
        "id": "SwXN892asCSw",
        "outputId": "ad7ad5be-89be-4754-959a-907e67a4addd"
      },
      "source": [
        "xgboost.fit(x_train, y_train)"
      ],
      "execution_count": null,
      "outputs": [
        {
          "output_type": "stream",
          "text": [
            "[23:00:20] WARNING: /workspace/src/objective/regression_obj.cu:152: reg:linear is now deprecated in favor of reg:squarederror.\n"
          ],
          "name": "stdout"
        },
        {
          "output_type": "execute_result",
          "data": {
            "text/plain": [
              "XGBRegressor(base_score=0.5, booster='gbtree', colsample_bylevel=1,\n",
              "             colsample_bynode=1, colsample_bytree=1, gamma=0,\n",
              "             importance_type='gain', learning_rate=0.08, max_delta_step=0,\n",
              "             max_depth=7, min_child_weight=1, missing=None, n_estimators=1500,\n",
              "             n_jobs=1, nthread=None, objective='reg:linear', random_state=0,\n",
              "             reg_alpha=0, reg_lambda=1, scale_pos_weight=1, seed=None,\n",
              "             silent=None, subsample=0.75, verbosity=1)"
            ]
          },
          "metadata": {
            "tags": []
          },
          "execution_count": 214
        }
      ]
    },
    {
      "cell_type": "code",
      "metadata": {
        "colab": {
          "base_uri": "https://localhost:8080/"
        },
        "id": "zGy4yKx7sGty",
        "outputId": "965fb161-64d7-41b9-cbf1-34018dd9d83a"
      },
      "source": [
        "y_pred = xgboost.predict(x_test)\n",
        "print(\"mse of the model : \", mean_squared_error(y_test, y_pred)) "
      ],
      "execution_count": null,
      "outputs": [
        {
          "output_type": "stream",
          "text": [
            "mse of the model :  0.07874630804753542\n"
          ],
          "name": "stdout"
        }
      ]
    },
    {
      "cell_type": "code",
      "metadata": {
        "colab": {
          "base_uri": "https://localhost:8080/"
        },
        "id": "OUy4f71BsKyV",
        "outputId": "297a60b1-5882-4cc3-d442-69334c286706"
      },
      "source": [
        "print(\"This is the importance of each feature: {0}\".format(xgboost.feature_importances_))"
      ],
      "execution_count": null,
      "outputs": [
        {
          "output_type": "stream",
          "text": [
            "This is the importance of each feature: [0.251 0.215 0.203 0.187 0.143]\n"
          ],
          "name": "stdout"
        }
      ]
    },
    {
      "cell_type": "code",
      "metadata": {
        "colab": {
          "base_uri": "https://localhost:8080/",
          "height": 295
        },
        "id": "DtcQrZ5HsLUq",
        "outputId": "77696f57-faf4-41a9-e395-a0f62fd39c7a"
      },
      "source": [
        "from xgboost import plot_importance\n",
        "plot_importance(xgboost)\n",
        "plt.show()"
      ],
      "execution_count": null,
      "outputs": [
        {
          "output_type": "display_data",
          "data": {
            "image/png": "[encoded data removed]",
            "text/plain": [
              "<Figure size 432x288 with 1 Axes>"
            ]
          },
          "metadata": {
            "tags": [],
            "needs_background": "light"
          }
        }
      ]
    },
    {
      "cell_type": "code",
      "metadata": {
        "colab": {
          "base_uri": "https://localhost:8080/"
        },
        "id": "uUSi3nqOsQck",
        "outputId": "c8f1b919-431c-46bb-e149-fd5d41f67bbb"
      },
      "source": [
        "print(\"r2 of the model : \", r2_score(y_test, y_pred)) "
      ],
      "execution_count": null,
      "outputs": [
        {
          "output_type": "stream",
          "text": [
            "r2 of the model :  0.5542248980038161\n"
          ],
          "name": "stdout"
        }
      ]
    },
    {
      "cell_type": "code",
      "metadata": {
        "colab": {
          "base_uri": "https://localhost:8080/"
        },
        "id": "5wZW2wIAsTCS",
        "outputId": "eda38737-7626-48a2-a94a-0f884c52f873"
      },
      "source": [
        "print (\"These are the first five entries\")\n",
        "print (x_test[:5])\n",
        "print (\"These are the model prediction for these entries\")\n",
        "print (xgboost.predict(x_test[:5]))\n",
        "print (\"These are the actual prices\")\n",
        "print (y_test[:5])"
      ],
      "execution_count": null,
      "outputs": [
        {
          "output_type": "stream",
          "text": [
            "These are the first five entries\n",
            "      FIPS  UnemploymentRate  ...  crime_rate_per_100000  NumberOfHospitals\n",
            "315  35049          0.966695  ...               1.928061           0.869742\n",
            "84   12001          0.889981  ...               2.002464           1.080418\n",
            "411  42043          0.959135  ...               1.983166           1.162283\n",
            "532  55133          0.824585  ...               1.637520           1.194706\n",
            "379  39133          0.995009  ...               1.692082           0.526589\n",
            "\n",
            "[5 rows x 5 columns]\n",
            "These are the model prediction for these entries\n",
            "[12.013 11.819 11.68  12.217 11.937]\n",
            "These are the actual prices\n",
            "     AverageHousePrice\n",
            "315          12.429746\n",
            "84           11.807576\n",
            "411          11.776743\n",
            "532          12.327207\n",
            "379          11.817743\n"
          ],
          "name": "stdout"
        }
      ]
    },
    {
      "cell_type": "markdown",
      "metadata": {
        "id": "pWS-41kNu-GA"
      },
      "source": [
        "## Modelo 4\n"
      ]
    },
    {
      "cell_type": "code",
      "metadata": {
        "colab": {
          "base_uri": "https://localhost:8080/",
          "height": 198
        },
        "id": "dSZ1QPdxwRrm",
        "outputId": "19036c50-b339-4a55-db79-9a1d596293fc"
      },
      "source": [
        "data_mod_4 = dataset_mod_2[['FIPS','NumberOfSchools','NumberOfHospitals','UnemploymentRate','crime_rate_per_100000', 'AverageHousePrice']]\n",
        "data_mod_4.head()"
      ],
      "execution_count": null,
      "outputs": [
        {
          "output_type": "execute_result",
          "data": {
            "text/html": [
              "<div>\n",
              "<style scoped>\n",
              "    .dataframe tbody tr th:only-of-type {\n",
              "        vertical-align: middle;\n",
              "    }\n",
              "\n",
              "    .dataframe tbody tr th {\n",
              "        vertical-align: top;\n",
              "    }\n",
              "\n",
              "    .dataframe thead th {\n",
              "        text-align: right;\n",
              "    }\n",
              "</style>\n",
              "<table border=\"1\" class=\"dataframe\">\n",
              "  <thead>\n",
              "    <tr style=\"text-align: right;\">\n",
              "      <th></th>\n",
              "      <th>FIPS</th>\n",
              "      <th>NumberOfSchools</th>\n",
              "      <th>NumberOfHospitals</th>\n",
              "      <th>UnemploymentRate</th>\n",
              "      <th>crime_rate_per_100000</th>\n",
              "      <th>AverageHousePrice</th>\n",
              "    </tr>\n",
              "  </thead>\n",
              "  <tbody>\n",
              "    <tr>\n",
              "      <th>182</th>\n",
              "      <td>18095</td>\n",
              "      <td>30</td>\n",
              "      <td>5</td>\n",
              "      <td>3.8</td>\n",
              "      <td>261.338729</td>\n",
              "      <td>11.271047</td>\n",
              "    </tr>\n",
              "    <tr>\n",
              "      <th>154</th>\n",
              "      <td>16019</td>\n",
              "      <td>52</td>\n",
              "      <td>2</td>\n",
              "      <td>2.4</td>\n",
              "      <td>186.947180</td>\n",
              "      <td>11.641637</td>\n",
              "    </tr>\n",
              "    <tr>\n",
              "      <th>373</th>\n",
              "      <td>39089</td>\n",
              "      <td>56</td>\n",
              "      <td>4</td>\n",
              "      <td>3.9</td>\n",
              "      <td>318.930958</td>\n",
              "      <td>12.124810</td>\n",
              "    </tr>\n",
              "    <tr>\n",
              "      <th>321</th>\n",
              "      <td>36055</td>\n",
              "      <td>184</td>\n",
              "      <td>8</td>\n",
              "      <td>4.4</td>\n",
              "      <td>356.854134</td>\n",
              "      <td>11.650612</td>\n",
              "    </tr>\n",
              "    <tr>\n",
              "      <th>503</th>\n",
              "      <td>51700</td>\n",
              "      <td>50</td>\n",
              "      <td>5</td>\n",
              "      <td>3.7</td>\n",
              "      <td>416.987144</td>\n",
              "      <td>11.878730</td>\n",
              "    </tr>\n",
              "  </tbody>\n",
              "</table>\n",
              "</div>"
            ],
            "text/plain": [
              "      FIPS  NumberOfSchools  ...  crime_rate_per_100000  AverageHousePrice\n",
              "182  18095               30  ...             261.338729          11.271047\n",
              "154  16019               52  ...             186.947180          11.641637\n",
              "373  39089               56  ...             318.930958          12.124810\n",
              "321  36055              184  ...             356.854134          11.650612\n",
              "503  51700               50  ...             416.987144          11.878730\n",
              "\n",
              "[5 rows x 6 columns]"
            ]
          },
          "metadata": {
            "tags": []
          },
          "execution_count": 260
        }
      ]
    },
    {
      "cell_type": "code",
      "metadata": {
        "id": "UD8HtK37w17u"
      },
      "source": [
        "X= data_mod_4.iloc[:,0:5]\n",
        "Y= data_mod_4.iloc[:,5]\n",
        "x, y = np.array(X), np.array(Y)"
      ],
      "execution_count": null,
      "outputs": []
    },
    {
      "cell_type": "code",
      "metadata": {
        "id": "4KTmCpnjxXmQ"
      },
      "source": [
        "model = LinearRegression().fit(x, y)"
      ],
      "execution_count": null,
      "outputs": []
    },
    {
      "cell_type": "code",
      "metadata": {
        "colab": {
          "base_uri": "https://localhost:8080/"
        },
        "id": "vypbvjQNxqw5",
        "outputId": "5abc8267-7276-4984-89dc-50d043c2e742"
      },
      "source": [
        "r_sq = model.score(x, y)\n",
        "print('coefficient of determination:', r_sq)\n",
        "\n",
        "print('intercept:', model.intercept_)\n",
        "\n",
        "print('slope:', model.coef_)"
      ],
      "execution_count": null,
      "outputs": [
        {
          "output_type": "stream",
          "text": [
            "coefficient of determination: 0.23698458453962612\n",
            "intercept: 12.48888603943702\n",
            "slope: [-3.194e-06  1.639e-03 -1.486e-02 -8.406e-02 -4.624e-04]\n"
          ],
          "name": "stdout"
        }
      ]
    },
    {
      "cell_type": "code",
      "metadata": {
        "id": "-lgwwLlwx2l-"
      },
      "source": [
        ""
      ],
      "execution_count": null,
      "outputs": []
    }
  ]
}